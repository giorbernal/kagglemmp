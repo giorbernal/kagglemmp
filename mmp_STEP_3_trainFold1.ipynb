{
 "cells": [
  {
   "cell_type": "markdown",
   "metadata": {},
   "source": [
    "# STEP 3: Training of the fold 1"
   ]
  },
  {
   "cell_type": "markdown",
   "metadata": {},
   "source": [
    "In this section we are going to obtain a model for the fold 1 "
   ]
  },
  {
   "cell_type": "code",
   "execution_count": 1,
   "metadata": {
    "collapsed": true
   },
   "outputs": [],
   "source": [
    "import numpy as np\n",
    "import pandas as pd\n",
    "import matplotlib.pyplot as plt\n",
    "import seaborn as sns\n",
    "%matplotlib inline"
   ]
  },
  {
   "cell_type": "markdown",
   "metadata": {},
   "source": [
    "# Data Exploration"
   ]
  },
  {
   "cell_type": "markdown",
   "metadata": {},
   "source": [
    "## Data Loading "
   ]
  },
  {
   "cell_type": "code",
   "execution_count": 2,
   "metadata": {
    "collapsed": true
   },
   "outputs": [],
   "source": [
    "df = pd.read_csv('datasets/train_fold1.csv', index_col='MachineIdentifier')"
   ]
  },
  {
   "cell_type": "markdown",
   "metadata": {},
   "source": [
    "## Data Description "
   ]
  },
  {
   "cell_type": "code",
   "execution_count": 3,
   "metadata": {},
   "outputs": [
    {
     "name": "stdout",
     "output_type": "stream",
     "text": [
      "<class 'pandas.core.frame.DataFrame'>\n",
      "Index: 181945 entries, 000061de7b3f42019db90eeb120ac3ac to 7fd57b472f0b7d5acb1bf0c5dd7a8ba0\n",
      "Data columns (total 75 columns):\n",
      "ProductName                                          181945 non-null object\n",
      "EngineVersion                                        181945 non-null object\n",
      "AppVersion                                           181945 non-null object\n",
      "AvSigVersion                                         181945 non-null object\n",
      "IsBeta                                               181945 non-null int64\n",
      "RtpStateBitfield                                     181945 non-null float64\n",
      "IsSxsPassiveMode                                     181945 non-null int64\n",
      "AVProductStatesIdentifier                            181945 non-null float64\n",
      "AVProductsInstalled                                  181945 non-null float64\n",
      "AVProductsEnabled                                    181945 non-null float64\n",
      "HasTpm                                               181945 non-null int64\n",
      "CountryIdentifier                                    181945 non-null int64\n",
      "CityIdentifier                                       181945 non-null float64\n",
      "OrganizationIdentifier                               181945 non-null float64\n",
      "GeoNameIdentifier                                    181945 non-null float64\n",
      "LocaleEnglishNameIdentifier                          181945 non-null int64\n",
      "Platform                                             181945 non-null object\n",
      "Processor                                            181945 non-null object\n",
      "OsVer                                                181945 non-null object\n",
      "OsBuild                                              181945 non-null int64\n",
      "OsSuite                                              181945 non-null int64\n",
      "OsPlatformSubRelease                                 181945 non-null object\n",
      "OsBuildLab                                           181945 non-null object\n",
      "SkuEdition                                           181945 non-null object\n",
      "IsProtected                                          181945 non-null float64\n",
      "AutoSampleOptIn                                      181945 non-null int64\n",
      "SMode                                                181945 non-null float64\n",
      "IeVerIdentifier                                      181945 non-null float64\n",
      "SmartScreen                                          181945 non-null object\n",
      "Firewall                                             181945 non-null float64\n",
      "UacLuaenable                                         181945 non-null float64\n",
      "Census_MDC2FormFactor                                181945 non-null object\n",
      "Census_DeviceFamily                                  181945 non-null object\n",
      "Census_OEMNameIdentifier                             181945 non-null float64\n",
      "Census_OEMModelIdentifier                            181945 non-null float64\n",
      "Census_ProcessorCoreCount                            181945 non-null float64\n",
      "Census_ProcessorManufacturerIdentifier               181945 non-null float64\n",
      "Census_ProcessorModelIdentifier                      181945 non-null float64\n",
      "Census_PrimaryDiskTotalCapacity                      181945 non-null float64\n",
      "Census_PrimaryDiskTypeName                           181945 non-null object\n",
      "Census_SystemVolumeTotalCapacity                     181945 non-null float64\n",
      "Census_HasOpticalDiskDrive                           181945 non-null int64\n",
      "Census_TotalPhysicalRAM                              181945 non-null float64\n",
      "Census_ChassisTypeName                               181945 non-null object\n",
      "Census_InternalPrimaryDiagonalDisplaySizeInInches    181945 non-null float64\n",
      "Census_InternalPrimaryDisplayResolutionHorizontal    181945 non-null float64\n",
      "Census_InternalPrimaryDisplayResolutionVertical      181945 non-null float64\n",
      "Census_PowerPlatformRoleName                         181945 non-null object\n",
      "Census_InternalBatteryNumberOfCharges                181945 non-null float64\n",
      "Census_OSVersion                                     181945 non-null object\n",
      "Census_OSArchitecture                                181945 non-null object\n",
      "Census_OSBranch                                      181945 non-null object\n",
      "Census_OSBuildNumber                                 181945 non-null int64\n",
      "Census_OSBuildRevision                               181945 non-null int64\n",
      "Census_OSEdition                                     181945 non-null object\n",
      "Census_OSSkuName                                     181945 non-null object\n",
      "Census_OSInstallTypeName                             181945 non-null object\n",
      "Census_OSInstallLanguageIdentifier                   181945 non-null float64\n",
      "Census_OSUILocaleIdentifier                          181945 non-null int64\n",
      "Census_OSWUAutoUpdateOptionsName                     181945 non-null object\n",
      "Census_IsPortableOperatingSystem                     181945 non-null int64\n",
      "Census_GenuineStateName                              181945 non-null object\n",
      "Census_ActivationChannel                             181945 non-null object\n",
      "Census_IsFlightsDisabled                             181945 non-null float64\n",
      "Census_FlightRing                                    181945 non-null object\n",
      "Census_FirmwareManufacturerIdentifier                181945 non-null float64\n",
      "Census_FirmwareVersionIdentifier                     181945 non-null float64\n",
      "Census_IsSecureBootEnabled                           181945 non-null int64\n",
      "Census_IsVirtualDevice                               181945 non-null float64\n",
      "Census_IsTouchEnabled                                181945 non-null int64\n",
      "Census_IsPenCapable                                  181945 non-null int64\n",
      "Census_IsAlwaysOnAlwaysConnectedCapable              181945 non-null float64\n",
      "Wdft_IsGamer                                         181945 non-null float64\n",
      "Wdft_RegionIdentifier                                181945 non-null float64\n",
      "HasDetections                                        181945 non-null int64\n",
      "dtypes: float64(32), int64(17), object(26)\n",
      "memory usage: 105.5+ MB\n"
     ]
    }
   ],
   "source": [
    "df.info()"
   ]
  },
  {
   "cell_type": "code",
   "execution_count": 4,
   "metadata": {},
   "outputs": [
    {
     "data": {
      "text/html": [
       "<div>\n",
       "<style>\n",
       "    .dataframe thead tr:only-child th {\n",
       "        text-align: right;\n",
       "    }\n",
       "\n",
       "    .dataframe thead th {\n",
       "        text-align: left;\n",
       "    }\n",
       "\n",
       "    .dataframe tbody tr th {\n",
       "        vertical-align: top;\n",
       "    }\n",
       "</style>\n",
       "<table border=\"1\" class=\"dataframe\">\n",
       "  <thead>\n",
       "    <tr style=\"text-align: right;\">\n",
       "      <th></th>\n",
       "      <th>ProductName</th>\n",
       "      <th>EngineVersion</th>\n",
       "      <th>AppVersion</th>\n",
       "      <th>AvSigVersion</th>\n",
       "      <th>IsBeta</th>\n",
       "      <th>RtpStateBitfield</th>\n",
       "      <th>IsSxsPassiveMode</th>\n",
       "      <th>AVProductStatesIdentifier</th>\n",
       "      <th>AVProductsInstalled</th>\n",
       "      <th>AVProductsEnabled</th>\n",
       "      <th>...</th>\n",
       "      <th>Census_FirmwareManufacturerIdentifier</th>\n",
       "      <th>Census_FirmwareVersionIdentifier</th>\n",
       "      <th>Census_IsSecureBootEnabled</th>\n",
       "      <th>Census_IsVirtualDevice</th>\n",
       "      <th>Census_IsTouchEnabled</th>\n",
       "      <th>Census_IsPenCapable</th>\n",
       "      <th>Census_IsAlwaysOnAlwaysConnectedCapable</th>\n",
       "      <th>Wdft_IsGamer</th>\n",
       "      <th>Wdft_RegionIdentifier</th>\n",
       "      <th>HasDetections</th>\n",
       "    </tr>\n",
       "    <tr>\n",
       "      <th>MachineIdentifier</th>\n",
       "      <th></th>\n",
       "      <th></th>\n",
       "      <th></th>\n",
       "      <th></th>\n",
       "      <th></th>\n",
       "      <th></th>\n",
       "      <th></th>\n",
       "      <th></th>\n",
       "      <th></th>\n",
       "      <th></th>\n",
       "      <th></th>\n",
       "      <th></th>\n",
       "      <th></th>\n",
       "      <th></th>\n",
       "      <th></th>\n",
       "      <th></th>\n",
       "      <th></th>\n",
       "      <th></th>\n",
       "      <th></th>\n",
       "      <th></th>\n",
       "      <th></th>\n",
       "    </tr>\n",
       "  </thead>\n",
       "  <tbody>\n",
       "    <tr>\n",
       "      <th>000061de7b3f42019db90eeb120ac3ac</th>\n",
       "      <td>win8defender</td>\n",
       "      <td>1.1.14800.3</td>\n",
       "      <td>4.14.17639.18041</td>\n",
       "      <td>1.267.1242.0</td>\n",
       "      <td>0</td>\n",
       "      <td>7.0</td>\n",
       "      <td>0</td>\n",
       "      <td>7945.0</td>\n",
       "      <td>2.0</td>\n",
       "      <td>1.0</td>\n",
       "      <td>...</td>\n",
       "      <td>628.0</td>\n",
       "      <td>8787.0</td>\n",
       "      <td>1</td>\n",
       "      <td>0.0</td>\n",
       "      <td>0</td>\n",
       "      <td>0</td>\n",
       "      <td>0.0</td>\n",
       "      <td>0.0</td>\n",
       "      <td>10.0</td>\n",
       "      <td>0</td>\n",
       "    </tr>\n",
       "    <tr>\n",
       "      <th>0000eb596d13fc67cfa8287a0a69f088</th>\n",
       "      <td>win8defender</td>\n",
       "      <td>1.1.14202.0</td>\n",
       "      <td>4.8.10240.17443</td>\n",
       "      <td>1.253.725.0</td>\n",
       "      <td>0</td>\n",
       "      <td>7.0</td>\n",
       "      <td>0</td>\n",
       "      <td>61343.0</td>\n",
       "      <td>2.0</td>\n",
       "      <td>1.0</td>\n",
       "      <td>...</td>\n",
       "      <td>556.0</td>\n",
       "      <td>13893.0</td>\n",
       "      <td>1</td>\n",
       "      <td>0.0</td>\n",
       "      <td>0</td>\n",
       "      <td>0</td>\n",
       "      <td>0.0</td>\n",
       "      <td>0.0</td>\n",
       "      <td>13.0</td>\n",
       "      <td>0</td>\n",
       "    </tr>\n",
       "    <tr>\n",
       "      <th>0000fdf6f3a37299d0f1ba4917a82c11</th>\n",
       "      <td>win8defender</td>\n",
       "      <td>1.1.14800.3</td>\n",
       "      <td>4.12.17007.18022</td>\n",
       "      <td>1.267.15.0</td>\n",
       "      <td>0</td>\n",
       "      <td>7.0</td>\n",
       "      <td>0</td>\n",
       "      <td>53447.0</td>\n",
       "      <td>1.0</td>\n",
       "      <td>1.0</td>\n",
       "      <td>...</td>\n",
       "      <td>554.0</td>\n",
       "      <td>33198.0</td>\n",
       "      <td>0</td>\n",
       "      <td>0.0</td>\n",
       "      <td>0</td>\n",
       "      <td>0</td>\n",
       "      <td>0.0</td>\n",
       "      <td>0.0</td>\n",
       "      <td>15.0</td>\n",
       "      <td>0</td>\n",
       "    </tr>\n",
       "    <tr>\n",
       "      <th>0001511435844fa9a3718b7a6dae0d22</th>\n",
       "      <td>win8defender</td>\n",
       "      <td>1.1.15000.2</td>\n",
       "      <td>4.13.17134.1</td>\n",
       "      <td>1.271.1003.0</td>\n",
       "      <td>0</td>\n",
       "      <td>7.0</td>\n",
       "      <td>0</td>\n",
       "      <td>62773.0</td>\n",
       "      <td>1.0</td>\n",
       "      <td>1.0</td>\n",
       "      <td>...</td>\n",
       "      <td>803.0</td>\n",
       "      <td>63140.0</td>\n",
       "      <td>0</td>\n",
       "      <td>0.0</td>\n",
       "      <td>0</td>\n",
       "      <td>0</td>\n",
       "      <td>0.0</td>\n",
       "      <td>0.0</td>\n",
       "      <td>12.0</td>\n",
       "      <td>0</td>\n",
       "    </tr>\n",
       "    <tr>\n",
       "      <th>0001b35aa123e6fbc38cf5d8198687a6</th>\n",
       "      <td>win8defender</td>\n",
       "      <td>1.1.15000.2</td>\n",
       "      <td>4.18.1806.18062</td>\n",
       "      <td>1.271.617.0</td>\n",
       "      <td>0</td>\n",
       "      <td>7.0</td>\n",
       "      <td>0</td>\n",
       "      <td>53447.0</td>\n",
       "      <td>1.0</td>\n",
       "      <td>1.0</td>\n",
       "      <td>...</td>\n",
       "      <td>628.0</td>\n",
       "      <td>26318.0</td>\n",
       "      <td>1</td>\n",
       "      <td>0.0</td>\n",
       "      <td>0</td>\n",
       "      <td>0</td>\n",
       "      <td>0.0</td>\n",
       "      <td>0.0</td>\n",
       "      <td>5.0</td>\n",
       "      <td>0</td>\n",
       "    </tr>\n",
       "  </tbody>\n",
       "</table>\n",
       "<p>5 rows × 75 columns</p>\n",
       "</div>"
      ],
      "text/plain": [
       "                                   ProductName EngineVersion  \\\n",
       "MachineIdentifier                                              \n",
       "000061de7b3f42019db90eeb120ac3ac  win8defender   1.1.14800.3   \n",
       "0000eb596d13fc67cfa8287a0a69f088  win8defender   1.1.14202.0   \n",
       "0000fdf6f3a37299d0f1ba4917a82c11  win8defender   1.1.14800.3   \n",
       "0001511435844fa9a3718b7a6dae0d22  win8defender   1.1.15000.2   \n",
       "0001b35aa123e6fbc38cf5d8198687a6  win8defender   1.1.15000.2   \n",
       "\n",
       "                                        AppVersion  AvSigVersion  IsBeta  \\\n",
       "MachineIdentifier                                                          \n",
       "000061de7b3f42019db90eeb120ac3ac  4.14.17639.18041  1.267.1242.0       0   \n",
       "0000eb596d13fc67cfa8287a0a69f088   4.8.10240.17443   1.253.725.0       0   \n",
       "0000fdf6f3a37299d0f1ba4917a82c11  4.12.17007.18022    1.267.15.0       0   \n",
       "0001511435844fa9a3718b7a6dae0d22      4.13.17134.1  1.271.1003.0       0   \n",
       "0001b35aa123e6fbc38cf5d8198687a6   4.18.1806.18062   1.271.617.0       0   \n",
       "\n",
       "                                  RtpStateBitfield  IsSxsPassiveMode  \\\n",
       "MachineIdentifier                                                      \n",
       "000061de7b3f42019db90eeb120ac3ac               7.0                 0   \n",
       "0000eb596d13fc67cfa8287a0a69f088               7.0                 0   \n",
       "0000fdf6f3a37299d0f1ba4917a82c11               7.0                 0   \n",
       "0001511435844fa9a3718b7a6dae0d22               7.0                 0   \n",
       "0001b35aa123e6fbc38cf5d8198687a6               7.0                 0   \n",
       "\n",
       "                                  AVProductStatesIdentifier  \\\n",
       "MachineIdentifier                                             \n",
       "000061de7b3f42019db90eeb120ac3ac                     7945.0   \n",
       "0000eb596d13fc67cfa8287a0a69f088                    61343.0   \n",
       "0000fdf6f3a37299d0f1ba4917a82c11                    53447.0   \n",
       "0001511435844fa9a3718b7a6dae0d22                    62773.0   \n",
       "0001b35aa123e6fbc38cf5d8198687a6                    53447.0   \n",
       "\n",
       "                                  AVProductsInstalled  AVProductsEnabled  \\\n",
       "MachineIdentifier                                                          \n",
       "000061de7b3f42019db90eeb120ac3ac                  2.0                1.0   \n",
       "0000eb596d13fc67cfa8287a0a69f088                  2.0                1.0   \n",
       "0000fdf6f3a37299d0f1ba4917a82c11                  1.0                1.0   \n",
       "0001511435844fa9a3718b7a6dae0d22                  1.0                1.0   \n",
       "0001b35aa123e6fbc38cf5d8198687a6                  1.0                1.0   \n",
       "\n",
       "                                      ...        \\\n",
       "MachineIdentifier                     ...         \n",
       "000061de7b3f42019db90eeb120ac3ac      ...         \n",
       "0000eb596d13fc67cfa8287a0a69f088      ...         \n",
       "0000fdf6f3a37299d0f1ba4917a82c11      ...         \n",
       "0001511435844fa9a3718b7a6dae0d22      ...         \n",
       "0001b35aa123e6fbc38cf5d8198687a6      ...         \n",
       "\n",
       "                                  Census_FirmwareManufacturerIdentifier  \\\n",
       "MachineIdentifier                                                         \n",
       "000061de7b3f42019db90eeb120ac3ac                                  628.0   \n",
       "0000eb596d13fc67cfa8287a0a69f088                                  556.0   \n",
       "0000fdf6f3a37299d0f1ba4917a82c11                                  554.0   \n",
       "0001511435844fa9a3718b7a6dae0d22                                  803.0   \n",
       "0001b35aa123e6fbc38cf5d8198687a6                                  628.0   \n",
       "\n",
       "                                  Census_FirmwareVersionIdentifier  \\\n",
       "MachineIdentifier                                                    \n",
       "000061de7b3f42019db90eeb120ac3ac                            8787.0   \n",
       "0000eb596d13fc67cfa8287a0a69f088                           13893.0   \n",
       "0000fdf6f3a37299d0f1ba4917a82c11                           33198.0   \n",
       "0001511435844fa9a3718b7a6dae0d22                           63140.0   \n",
       "0001b35aa123e6fbc38cf5d8198687a6                           26318.0   \n",
       "\n",
       "                                  Census_IsSecureBootEnabled  \\\n",
       "MachineIdentifier                                              \n",
       "000061de7b3f42019db90eeb120ac3ac                           1   \n",
       "0000eb596d13fc67cfa8287a0a69f088                           1   \n",
       "0000fdf6f3a37299d0f1ba4917a82c11                           0   \n",
       "0001511435844fa9a3718b7a6dae0d22                           0   \n",
       "0001b35aa123e6fbc38cf5d8198687a6                           1   \n",
       "\n",
       "                                  Census_IsVirtualDevice  \\\n",
       "MachineIdentifier                                          \n",
       "000061de7b3f42019db90eeb120ac3ac                     0.0   \n",
       "0000eb596d13fc67cfa8287a0a69f088                     0.0   \n",
       "0000fdf6f3a37299d0f1ba4917a82c11                     0.0   \n",
       "0001511435844fa9a3718b7a6dae0d22                     0.0   \n",
       "0001b35aa123e6fbc38cf5d8198687a6                     0.0   \n",
       "\n",
       "                                  Census_IsTouchEnabled  Census_IsPenCapable  \\\n",
       "MachineIdentifier                                                              \n",
       "000061de7b3f42019db90eeb120ac3ac                      0                    0   \n",
       "0000eb596d13fc67cfa8287a0a69f088                      0                    0   \n",
       "0000fdf6f3a37299d0f1ba4917a82c11                      0                    0   \n",
       "0001511435844fa9a3718b7a6dae0d22                      0                    0   \n",
       "0001b35aa123e6fbc38cf5d8198687a6                      0                    0   \n",
       "\n",
       "                                 Census_IsAlwaysOnAlwaysConnectedCapable  \\\n",
       "MachineIdentifier                                                          \n",
       "000061de7b3f42019db90eeb120ac3ac                                     0.0   \n",
       "0000eb596d13fc67cfa8287a0a69f088                                     0.0   \n",
       "0000fdf6f3a37299d0f1ba4917a82c11                                     0.0   \n",
       "0001511435844fa9a3718b7a6dae0d22                                     0.0   \n",
       "0001b35aa123e6fbc38cf5d8198687a6                                     0.0   \n",
       "\n",
       "                                 Wdft_IsGamer Wdft_RegionIdentifier  \\\n",
       "MachineIdentifier                                                     \n",
       "000061de7b3f42019db90eeb120ac3ac          0.0                  10.0   \n",
       "0000eb596d13fc67cfa8287a0a69f088          0.0                  13.0   \n",
       "0000fdf6f3a37299d0f1ba4917a82c11          0.0                  15.0   \n",
       "0001511435844fa9a3718b7a6dae0d22          0.0                  12.0   \n",
       "0001b35aa123e6fbc38cf5d8198687a6          0.0                   5.0   \n",
       "\n",
       "                                  HasDetections  \n",
       "MachineIdentifier                                \n",
       "000061de7b3f42019db90eeb120ac3ac              0  \n",
       "0000eb596d13fc67cfa8287a0a69f088              0  \n",
       "0000fdf6f3a37299d0f1ba4917a82c11              0  \n",
       "0001511435844fa9a3718b7a6dae0d22              0  \n",
       "0001b35aa123e6fbc38cf5d8198687a6              0  \n",
       "\n",
       "[5 rows x 75 columns]"
      ]
     },
     "execution_count": 4,
     "metadata": {},
     "output_type": "execute_result"
    }
   ],
   "source": [
    "df.head()"
   ]
  },
  {
   "cell_type": "code",
   "execution_count": 5,
   "metadata": {},
   "outputs": [
    {
     "data": {
      "text/html": [
       "<div>\n",
       "<style>\n",
       "    .dataframe thead tr:only-child th {\n",
       "        text-align: right;\n",
       "    }\n",
       "\n",
       "    .dataframe thead th {\n",
       "        text-align: left;\n",
       "    }\n",
       "\n",
       "    .dataframe tbody tr th {\n",
       "        vertical-align: top;\n",
       "    }\n",
       "</style>\n",
       "<table border=\"1\" class=\"dataframe\">\n",
       "  <thead>\n",
       "    <tr style=\"text-align: right;\">\n",
       "      <th></th>\n",
       "      <th>IsBeta</th>\n",
       "      <th>RtpStateBitfield</th>\n",
       "      <th>IsSxsPassiveMode</th>\n",
       "      <th>AVProductStatesIdentifier</th>\n",
       "      <th>AVProductsInstalled</th>\n",
       "      <th>AVProductsEnabled</th>\n",
       "      <th>HasTpm</th>\n",
       "      <th>CountryIdentifier</th>\n",
       "      <th>CityIdentifier</th>\n",
       "      <th>OrganizationIdentifier</th>\n",
       "      <th>...</th>\n",
       "      <th>Census_FirmwareManufacturerIdentifier</th>\n",
       "      <th>Census_FirmwareVersionIdentifier</th>\n",
       "      <th>Census_IsSecureBootEnabled</th>\n",
       "      <th>Census_IsVirtualDevice</th>\n",
       "      <th>Census_IsTouchEnabled</th>\n",
       "      <th>Census_IsPenCapable</th>\n",
       "      <th>Census_IsAlwaysOnAlwaysConnectedCapable</th>\n",
       "      <th>Wdft_IsGamer</th>\n",
       "      <th>Wdft_RegionIdentifier</th>\n",
       "      <th>HasDetections</th>\n",
       "    </tr>\n",
       "  </thead>\n",
       "  <tbody>\n",
       "    <tr>\n",
       "      <th>count</th>\n",
       "      <td>181945.0</td>\n",
       "      <td>181945.000000</td>\n",
       "      <td>181945.000000</td>\n",
       "      <td>181945.000000</td>\n",
       "      <td>181945.000000</td>\n",
       "      <td>181945.000000</td>\n",
       "      <td>181945.000000</td>\n",
       "      <td>181945.000000</td>\n",
       "      <td>181945.000000</td>\n",
       "      <td>181945.000000</td>\n",
       "      <td>...</td>\n",
       "      <td>181945.000000</td>\n",
       "      <td>181945.000000</td>\n",
       "      <td>181945.000000</td>\n",
       "      <td>181945.000000</td>\n",
       "      <td>181945.000000</td>\n",
       "      <td>181945.000000</td>\n",
       "      <td>181945.000000</td>\n",
       "      <td>181945.000000</td>\n",
       "      <td>181945.000000</td>\n",
       "      <td>181945.000000</td>\n",
       "    </tr>\n",
       "    <tr>\n",
       "      <th>mean</th>\n",
       "      <td>0.0</td>\n",
       "      <td>6.833851</td>\n",
       "      <td>0.013647</td>\n",
       "      <td>48028.081755</td>\n",
       "      <td>1.440688</td>\n",
       "      <td>1.026937</td>\n",
       "      <td>0.998813</td>\n",
       "      <td>106.475556</td>\n",
       "      <td>80269.206991</td>\n",
       "      <td>24.912803</td>\n",
       "      <td>...</td>\n",
       "      <td>434.515051</td>\n",
       "      <td>34613.675726</td>\n",
       "      <td>0.547979</td>\n",
       "      <td>0.001500</td>\n",
       "      <td>0.142444</td>\n",
       "      <td>0.030152</td>\n",
       "      <td>0.066822</td>\n",
       "      <td>0.123939</td>\n",
       "      <td>8.411866</td>\n",
       "      <td>0.341719</td>\n",
       "    </tr>\n",
       "    <tr>\n",
       "      <th>std</th>\n",
       "      <td>0.0</td>\n",
       "      <td>1.021289</td>\n",
       "      <td>0.116021</td>\n",
       "      <td>16248.534937</td>\n",
       "      <td>0.573032</td>\n",
       "      <td>0.194782</td>\n",
       "      <td>0.034435</td>\n",
       "      <td>62.207733</td>\n",
       "      <td>48915.353017</td>\n",
       "      <td>5.132549</td>\n",
       "      <td>...</td>\n",
       "      <td>219.627805</td>\n",
       "      <td>21211.279809</td>\n",
       "      <td>0.497694</td>\n",
       "      <td>0.038707</td>\n",
       "      <td>0.349506</td>\n",
       "      <td>0.171006</td>\n",
       "      <td>0.249715</td>\n",
       "      <td>0.329512</td>\n",
       "      <td>4.438819</td>\n",
       "      <td>0.474287</td>\n",
       "    </tr>\n",
       "    <tr>\n",
       "      <th>min</th>\n",
       "      <td>0.0</td>\n",
       "      <td>0.000000</td>\n",
       "      <td>0.000000</td>\n",
       "      <td>39.000000</td>\n",
       "      <td>1.000000</td>\n",
       "      <td>0.000000</td>\n",
       "      <td>0.000000</td>\n",
       "      <td>2.000000</td>\n",
       "      <td>7.000000</td>\n",
       "      <td>1.000000</td>\n",
       "      <td>...</td>\n",
       "      <td>11.000000</td>\n",
       "      <td>90.000000</td>\n",
       "      <td>0.000000</td>\n",
       "      <td>0.000000</td>\n",
       "      <td>0.000000</td>\n",
       "      <td>0.000000</td>\n",
       "      <td>0.000000</td>\n",
       "      <td>0.000000</td>\n",
       "      <td>1.000000</td>\n",
       "      <td>0.000000</td>\n",
       "    </tr>\n",
       "    <tr>\n",
       "      <th>25%</th>\n",
       "      <td>0.0</td>\n",
       "      <td>7.000000</td>\n",
       "      <td>0.000000</td>\n",
       "      <td>47238.000000</td>\n",
       "      <td>1.000000</td>\n",
       "      <td>1.000000</td>\n",
       "      <td>1.000000</td>\n",
       "      <td>51.000000</td>\n",
       "      <td>34809.000000</td>\n",
       "      <td>18.000000</td>\n",
       "      <td>...</td>\n",
       "      <td>142.000000</td>\n",
       "      <td>16750.000000</td>\n",
       "      <td>0.000000</td>\n",
       "      <td>0.000000</td>\n",
       "      <td>0.000000</td>\n",
       "      <td>0.000000</td>\n",
       "      <td>0.000000</td>\n",
       "      <td>0.000000</td>\n",
       "      <td>5.000000</td>\n",
       "      <td>0.000000</td>\n",
       "    </tr>\n",
       "    <tr>\n",
       "      <th>50%</th>\n",
       "      <td>0.0</td>\n",
       "      <td>7.000000</td>\n",
       "      <td>0.000000</td>\n",
       "      <td>53447.000000</td>\n",
       "      <td>1.000000</td>\n",
       "      <td>1.000000</td>\n",
       "      <td>1.000000</td>\n",
       "      <td>93.000000</td>\n",
       "      <td>82373.000000</td>\n",
       "      <td>27.000000</td>\n",
       "      <td>...</td>\n",
       "      <td>551.000000</td>\n",
       "      <td>33075.000000</td>\n",
       "      <td>1.000000</td>\n",
       "      <td>0.000000</td>\n",
       "      <td>0.000000</td>\n",
       "      <td>0.000000</td>\n",
       "      <td>0.000000</td>\n",
       "      <td>0.000000</td>\n",
       "      <td>10.000000</td>\n",
       "      <td>0.000000</td>\n",
       "    </tr>\n",
       "    <tr>\n",
       "      <th>75%</th>\n",
       "      <td>0.0</td>\n",
       "      <td>7.000000</td>\n",
       "      <td>0.000000</td>\n",
       "      <td>53447.000000</td>\n",
       "      <td>2.000000</td>\n",
       "      <td>1.000000</td>\n",
       "      <td>1.000000</td>\n",
       "      <td>159.000000</td>\n",
       "      <td>122701.000000</td>\n",
       "      <td>27.000000</td>\n",
       "      <td>...</td>\n",
       "      <td>556.000000</td>\n",
       "      <td>56954.000000</td>\n",
       "      <td>1.000000</td>\n",
       "      <td>0.000000</td>\n",
       "      <td>0.000000</td>\n",
       "      <td>0.000000</td>\n",
       "      <td>0.000000</td>\n",
       "      <td>0.000000</td>\n",
       "      <td>11.000000</td>\n",
       "      <td>1.000000</td>\n",
       "    </tr>\n",
       "    <tr>\n",
       "      <th>max</th>\n",
       "      <td>0.0</td>\n",
       "      <td>8.000000</td>\n",
       "      <td>1.000000</td>\n",
       "      <td>70498.000000</td>\n",
       "      <td>5.000000</td>\n",
       "      <td>5.000000</td>\n",
       "      <td>1.000000</td>\n",
       "      <td>222.000000</td>\n",
       "      <td>167934.000000</td>\n",
       "      <td>52.000000</td>\n",
       "      <td>...</td>\n",
       "      <td>1083.000000</td>\n",
       "      <td>72102.000000</td>\n",
       "      <td>1.000000</td>\n",
       "      <td>1.000000</td>\n",
       "      <td>1.000000</td>\n",
       "      <td>1.000000</td>\n",
       "      <td>1.000000</td>\n",
       "      <td>1.000000</td>\n",
       "      <td>15.000000</td>\n",
       "      <td>1.000000</td>\n",
       "    </tr>\n",
       "  </tbody>\n",
       "</table>\n",
       "<p>8 rows × 49 columns</p>\n",
       "</div>"
      ],
      "text/plain": [
       "         IsBeta  RtpStateBitfield  IsSxsPassiveMode  \\\n",
       "count  181945.0     181945.000000     181945.000000   \n",
       "mean        0.0          6.833851          0.013647   \n",
       "std         0.0          1.021289          0.116021   \n",
       "min         0.0          0.000000          0.000000   \n",
       "25%         0.0          7.000000          0.000000   \n",
       "50%         0.0          7.000000          0.000000   \n",
       "75%         0.0          7.000000          0.000000   \n",
       "max         0.0          8.000000          1.000000   \n",
       "\n",
       "       AVProductStatesIdentifier  AVProductsInstalled  AVProductsEnabled  \\\n",
       "count              181945.000000        181945.000000      181945.000000   \n",
       "mean                48028.081755             1.440688           1.026937   \n",
       "std                 16248.534937             0.573032           0.194782   \n",
       "min                    39.000000             1.000000           0.000000   \n",
       "25%                 47238.000000             1.000000           1.000000   \n",
       "50%                 53447.000000             1.000000           1.000000   \n",
       "75%                 53447.000000             2.000000           1.000000   \n",
       "max                 70498.000000             5.000000           5.000000   \n",
       "\n",
       "              HasTpm  CountryIdentifier  CityIdentifier  \\\n",
       "count  181945.000000      181945.000000   181945.000000   \n",
       "mean        0.998813         106.475556    80269.206991   \n",
       "std         0.034435          62.207733    48915.353017   \n",
       "min         0.000000           2.000000        7.000000   \n",
       "25%         1.000000          51.000000    34809.000000   \n",
       "50%         1.000000          93.000000    82373.000000   \n",
       "75%         1.000000         159.000000   122701.000000   \n",
       "max         1.000000         222.000000   167934.000000   \n",
       "\n",
       "       OrganizationIdentifier      ...        \\\n",
       "count           181945.000000      ...         \n",
       "mean                24.912803      ...         \n",
       "std                  5.132549      ...         \n",
       "min                  1.000000      ...         \n",
       "25%                 18.000000      ...         \n",
       "50%                 27.000000      ...         \n",
       "75%                 27.000000      ...         \n",
       "max                 52.000000      ...         \n",
       "\n",
       "       Census_FirmwareManufacturerIdentifier  \\\n",
       "count                          181945.000000   \n",
       "mean                              434.515051   \n",
       "std                               219.627805   \n",
       "min                                11.000000   \n",
       "25%                               142.000000   \n",
       "50%                               551.000000   \n",
       "75%                               556.000000   \n",
       "max                              1083.000000   \n",
       "\n",
       "       Census_FirmwareVersionIdentifier  Census_IsSecureBootEnabled  \\\n",
       "count                     181945.000000               181945.000000   \n",
       "mean                       34613.675726                    0.547979   \n",
       "std                        21211.279809                    0.497694   \n",
       "min                           90.000000                    0.000000   \n",
       "25%                        16750.000000                    0.000000   \n",
       "50%                        33075.000000                    1.000000   \n",
       "75%                        56954.000000                    1.000000   \n",
       "max                        72102.000000                    1.000000   \n",
       "\n",
       "       Census_IsVirtualDevice  Census_IsTouchEnabled  Census_IsPenCapable  \\\n",
       "count           181945.000000          181945.000000        181945.000000   \n",
       "mean                 0.001500               0.142444             0.030152   \n",
       "std                  0.038707               0.349506             0.171006   \n",
       "min                  0.000000               0.000000             0.000000   \n",
       "25%                  0.000000               0.000000             0.000000   \n",
       "50%                  0.000000               0.000000             0.000000   \n",
       "75%                  0.000000               0.000000             0.000000   \n",
       "max                  1.000000               1.000000             1.000000   \n",
       "\n",
       "       Census_IsAlwaysOnAlwaysConnectedCapable   Wdft_IsGamer  \\\n",
       "count                            181945.000000  181945.000000   \n",
       "mean                                  0.066822       0.123939   \n",
       "std                                   0.249715       0.329512   \n",
       "min                                   0.000000       0.000000   \n",
       "25%                                   0.000000       0.000000   \n",
       "50%                                   0.000000       0.000000   \n",
       "75%                                   0.000000       0.000000   \n",
       "max                                   1.000000       1.000000   \n",
       "\n",
       "       Wdft_RegionIdentifier  HasDetections  \n",
       "count          181945.000000  181945.000000  \n",
       "mean                8.411866       0.341719  \n",
       "std                 4.438819       0.474287  \n",
       "min                 1.000000       0.000000  \n",
       "25%                 5.000000       0.000000  \n",
       "50%                10.000000       0.000000  \n",
       "75%                11.000000       1.000000  \n",
       "max                15.000000       1.000000  \n",
       "\n",
       "[8 rows x 49 columns]"
      ]
     },
     "execution_count": 5,
     "metadata": {},
     "output_type": "execute_result"
    }
   ],
   "source": [
    "df.describe()"
   ]
  },
  {
   "cell_type": "markdown",
   "metadata": {},
   "source": [
    "## Splitting label information"
   ]
  },
  {
   "cell_type": "code",
   "execution_count": 6,
   "metadata": {
    "collapsed": true
   },
   "outputs": [],
   "source": [
    "df_y = df['HasDetections']\n",
    "df.drop(labels=['HasDetections'], axis=1, inplace=True)"
   ]
  },
  {
   "cell_type": "markdown",
   "metadata": {},
   "source": [
    "## Categorical to Numerical "
   ]
  },
  {
   "cell_type": "code",
   "execution_count": 7,
   "metadata": {
    "collapsed": true
   },
   "outputs": [],
   "source": [
    "columns_categorical = df.select_dtypes(include=['object']).columns"
   ]
  },
  {
   "cell_type": "code",
   "execution_count": 8,
   "metadata": {},
   "outputs": [
    {
     "name": "stdout",
     "output_type": "stream",
     "text": [
      "ProductName: 2\n",
      "EngineVersion: 53\n",
      "AppVersion: 87\n",
      "AvSigVersion: 4798\n",
      "Platform: 3\n",
      "Processor: 2\n",
      "OsVer: 7\n",
      "OsPlatformSubRelease: 9\n",
      "OsBuildLab: 282\n",
      "SkuEdition: 7\n",
      "SmartScreen: 10\n",
      "Census_MDC2FormFactor: 10\n",
      "Census_DeviceFamily: 1\n",
      "Census_PrimaryDiskTypeName: 4\n",
      "Census_ChassisTypeName: 27\n",
      "Census_PowerPlatformRoleName: 9\n",
      "Census_OSVersion: 250\n",
      "Census_OSArchitecture: 2\n",
      "Census_OSBranch: 13\n",
      "Census_OSEdition: 14\n",
      "Census_OSSkuName: 13\n",
      "Census_OSInstallTypeName: 9\n",
      "Census_OSWUAutoUpdateOptionsName: 5\n",
      "Census_GenuineStateName: 4\n",
      "Census_ActivationChannel: 5\n",
      "Census_FlightRing: 7\n",
      "Total new vars: 5633\n"
     ]
    }
   ],
   "source": [
    "total = 0\n",
    "for c in columns_categorical:\n",
    "    values = df[c].nunique()\n",
    "    total += values\n",
    "    print(str(c) + ': ' + str(values))\n",
    "print('Total new vars: ' + str(total))"
   ]
  },
  {
   "cell_type": "markdown",
   "metadata": {},
   "source": [
    "There are some of the categorical values that have a lot of values .... "
   ]
  },
  {
   "cell_type": "code",
   "execution_count": 9,
   "metadata": {
    "collapsed": true
   },
   "outputs": [],
   "source": [
    "df_num=pd.get_dummies(data=df,columns=columns_categorical)"
   ]
  },
  {
   "cell_type": "code",
   "execution_count": 10,
   "metadata": {
    "collapsed": true
   },
   "outputs": [],
   "source": [
    "#df_num.to_csv('datasets/train_reduced_num.csv')"
   ]
  },
  {
   "cell_type": "markdown",
   "metadata": {
    "collapsed": true
   },
   "source": [
    "# Dimensionality Reduction with PCA (with previous normalization)"
   ]
  },
  {
   "cell_type": "code",
   "execution_count": 11,
   "metadata": {
    "collapsed": true
   },
   "outputs": [],
   "source": [
    "#df_num= pd.read_csv('datasets/train_reduced_num.csv')"
   ]
  },
  {
   "cell_type": "code",
   "execution_count": 12,
   "metadata": {
    "collapsed": true
   },
   "outputs": [],
   "source": [
    "from sklearn.decomposition import PCA\n",
    "from sklearn.preprocessing import MinMaxScaler"
   ]
  },
  {
   "cell_type": "code",
   "execution_count": 13,
   "metadata": {
    "collapsed": true
   },
   "outputs": [],
   "source": [
    "scaler = MinMaxScaler()"
   ]
  },
  {
   "cell_type": "code",
   "execution_count": 15,
   "metadata": {
    "collapsed": true
   },
   "outputs": [],
   "source": [
    "data_scaled = scaler.fit_transform(df_num.values)"
   ]
  },
  {
   "cell_type": "code",
   "execution_count": 19,
   "metadata": {
    "collapsed": true
   },
   "outputs": [],
   "source": [
    "pca = PCA()"
   ]
  },
  {
   "cell_type": "code",
   "execution_count": null,
   "metadata": {
    "collapsed": true
   },
   "outputs": [],
   "source": [
    "reduced = pca.fit_transform(data_scaled)"
   ]
  },
  {
   "cell_type": "code",
   "execution_count": 30,
   "metadata": {},
   "outputs": [
    {
     "data": {
      "text/plain": [
       "<matplotlib.collections.PathCollection at 0x1a1bab2e48>"
      ]
     },
     "execution_count": 30,
     "metadata": {},
     "output_type": "execute_result"
    },
    {
     "data": {
      "image/png": "[encoded data removed]",
      "text/plain": [
       "<matplotlib.figure.Figure at 0x1a11874d68>"
      ]
     },
     "metadata": {},
     "output_type": "display_data"
    }
   ],
   "source": [
    "plt.scatter(reduced[:,0], reduced[:,1], c=df_y.values, alpha=1)"
   ]
  },
  {
   "cell_type": "code",
   "execution_count": 31,
   "metadata": {},
   "outputs": [
    {
     "data": {
      "text/plain": [
       "[<matplotlib.lines.Line2D at 0x1a1d31dac8>]"
      ]
     },
     "execution_count": 31,
     "metadata": {},
     "output_type": "execute_result"
    },
    {
     "data": {
      "image/png": "[encoded data removed]",
      "text/plain": [
       "<matplotlib.figure.Figure at 0x1a1bed5a20>"
      ]
     },
     "metadata": {},
     "output_type": "display_data"
    }
   ],
   "source": [
    "cumulative = []\n",
    "last = 0\n",
    "for v in pca.explained_variance_ratio_:\n",
    "    cumulative.append(last + v)\n",
    "    last = cumulative[-1]\n",
    "plt.plot(cumulative)\n",
    "#plt.xlim([0,7])"
   ]
  },
  {
   "cell_type": "markdown",
   "metadata": {},
   "source": [
    "dimension can be reducced to k dimensions: "
   ]
  },
  {
   "cell_type": "code",
   "execution_count": 32,
   "metadata": {},
   "outputs": [
    {
     "name": "stdout",
     "output_type": "stream",
     "text": [
      "k for 95% of information:  431 . compresion:  0.884388412017\n"
     ]
    }
   ],
   "source": [
    "keep_info=0.96\n",
    "np_cumulative = np.array(cumulative)\n",
    "k=(np_cumulative>keep_info).argmax()\n",
    "print('k for 95% of information: ',k,'. compresion: ',1-(k/(reduced.shape[1])))"
   ]
  },
  {
   "cell_type": "code",
   "execution_count": 33,
   "metadata": {
    "collapsed": true
   },
   "outputs": [],
   "source": [
    "X_num_pca = reduced[:,0:k]"
   ]
  },
  {
   "cell_type": "code",
   "execution_count": 34,
   "metadata": {},
   "outputs": [
    {
     "data": {
      "text/plain": [
       "(201647, 431)"
      ]
     },
     "execution_count": 34,
     "metadata": {},
     "output_type": "execute_result"
    }
   ],
   "source": [
    "X_num_pca.shape"
   ]
  },
  {
   "cell_type": "markdown",
   "metadata": {},
   "source": [
    "# Classification problem"
   ]
  },
  {
   "cell_type": "code",
   "execution_count": 36,
   "metadata": {
    "collapsed": true
   },
   "outputs": [],
   "source": [
    "import sys\n",
    "sys.path.append('../../GitRepos/dsbase/src/main/')\n",
    "\n",
    "from sklearn.model_selection import train_test_split\n",
    "from ModelDSBase import ModelDSBaseWrapper"
   ]
  },
  {
   "cell_type": "markdown",
   "metadata": {},
   "source": [
    "## Ada Boosting "
   ]
  },
  {
   "cell_type": "code",
   "execution_count": 46,
   "metadata": {
    "collapsed": true
   },
   "outputs": [],
   "source": [
    "from AdaBoostClassificationDSBase import AdaBoostClassificationDSBaseModelParamsToMap\n",
    "from AdaBoostClassificationDSBase import AdaBoostClassificationDSBaseModel"
   ]
  },
  {
   "cell_type": "code",
   "execution_count": 47,
   "metadata": {},
   "outputs": [
    {
     "name": "stdout",
     "output_type": "stream",
     "text": [
      "X size:(201647, 431)\n",
      "y size:(201647,)\n",
      "initiating model AB0. AdaBoostClassification\n",
      "initiating model AB1. AdaBoostClassification\n",
      "initiating model AB2. AdaBoostClassification\n"
     ]
    }
   ],
   "source": [
    "params = AdaBoostClassificationDSBaseModelParamsToMap(100,1.0)\n",
    "abc = ModelDSBaseWrapper('AB',X_num_pca,df_y.values,[30,65,100],0.3,AdaBoostClassificationDSBaseModel,params,splitter=train_test_split)"
   ]
  },
  {
   "cell_type": "code",
   "execution_count": 48,
   "metadata": {},
   "outputs": [
    {
     "name": "stdout",
     "output_type": "stream",
     "text": [
      "training model AB0. AdaBoostClassification\n",
      "training model AB1. AdaBoostClassification\n",
      "training model AB2. AdaBoostClassification\n"
     ]
    }
   ],
   "source": [
    "abc.train()"
   ]
  },
  {
   "cell_type": "code",
   "execution_count": 49,
   "metadata": {
    "collapsed": true
   },
   "outputs": [],
   "source": [
    "lcabc = abc.getLearningCurves()"
   ]
  },
  {
   "cell_type": "code",
   "execution_count": 50,
   "metadata": {},
   "outputs": [
    {
     "data": {
      "text/plain": [
       "[<matplotlib.lines.Line2D at 0x1a5fa2a780>,\n",
       " <matplotlib.lines.Line2D at 0x1a5fa2ac50>]"
      ]
     },
     "execution_count": 50,
     "metadata": {},
     "output_type": "execute_result"
    },
    {
     "data": {
      "image/png": "[encoded data removed]",
      "text/plain": [
       "<matplotlib.figure.Figure at 0x1a5f27e1d0>"
      ]
     },
     "metadata": {},
     "output_type": "display_data"
    }
   ],
   "source": [
    "plt.plot(lcabc[0,:],'b',lcabc[1,:],'r')"
   ]
  },
  {
   "cell_type": "code",
   "execution_count": 51,
   "metadata": {},
   "outputs": [
    {
     "data": {
      "text/plain": [
       "0.606744359037937"
      ]
     },
     "execution_count": 51,
     "metadata": {},
     "output_type": "execute_result"
    }
   ],
   "source": [
    "abc.getScore()"
   ]
  },
  {
   "cell_type": "markdown",
   "metadata": {},
   "source": [
    "## DDN "
   ]
  },
  {
   "cell_type": "code",
   "execution_count": null,
   "metadata": {
    "collapsed": true
   },
   "outputs": [],
   "source": [
    "from DNNClassificationKerasDSBase import DNNClassificationKerasDSBaseParamsToMap\n",
    "from DNNClassificationKerasDSBase import DNNClassificationKerasDSBaseModel"
   ]
  },
  {
   "cell_type": "code",
   "execution_count": null,
   "metadata": {
    "collapsed": true
   },
   "outputs": [],
   "source": [
    "params = DNNClassificationKerasDSBaseParamsToMap(layers=[200,100,50,20,10,5], alpha=1e-2, beta1=0.9, beta2=0.999, epsilon=1e-8, batch_size=128, epochs=40)\n",
    "dnnkc = ModelDSBaseWrapper('DNNKC',X_num_pca,df_y.values,[70,75,80,85,90,95,100],0.3,DNNClassificationKerasDSBaseModel,params,splitter=train_test_split)"
   ]
  },
  {
   "cell_type": "code",
   "execution_count": null,
   "metadata": {
    "collapsed": true
   },
   "outputs": [],
   "source": [
    "dnnkc.train()"
   ]
  },
  {
   "cell_type": "code",
   "execution_count": null,
   "metadata": {
    "collapsed": true
   },
   "outputs": [],
   "source": [
    "lcdnnkc=dnnkc.getLearningCurves()"
   ]
  },
  {
   "cell_type": "code",
   "execution_count": null,
   "metadata": {
    "collapsed": true
   },
   "outputs": [],
   "source": [
    "plt.plot(lcdnnkc[0,:],'b',lcdnnkc[1,:],'r')"
   ]
  },
  {
   "cell_type": "code",
   "execution_count": null,
   "metadata": {
    "collapsed": true
   },
   "outputs": [],
   "source": [
    "dnnkc.getScore()"
   ]
  },
  {
   "cell_type": "code",
   "execution_count": null,
   "metadata": {
    "collapsed": true
   },
   "outputs": [],
   "source": []
  }
 ],
 "metadata": {
  "kernelspec": {
   "display_name": "Python 3",
   "language": "python",
   "name": "python3"
  },
  "language_info": {
   "codemirror_mode": {
    "name": "ipython",
    "version": 3
   },
   "file_extension": ".py",
   "mimetype": "text/x-python",
   "name": "python",
   "nbconvert_exporter": "python",
   "pygments_lexer": "ipython3",
   "version": "3.6.3"
  }
 },
 "nbformat": 4,
 "nbformat_minor": 2
}
