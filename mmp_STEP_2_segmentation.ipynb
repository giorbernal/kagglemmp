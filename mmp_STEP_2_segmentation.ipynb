{
 "cells": [
  {
   "cell_type": "markdown",
   "metadata": {},
   "source": [
    "# STEP 2: From categorical to One-Hot Vector and Segmentation"
   ]
  },
  {
   "cell_type": "markdown",
   "metadata": {},
   "source": [
    "From categorical to One-Hot Vector dataset and segmentations of the different training \"folds\""
   ]
  },
  {
   "cell_type": "code",
   "execution_count": 1,
   "metadata": {
    "collapsed": true
   },
   "outputs": [],
   "source": [
    "import numpy as np\n",
    "import pandas as pd\n",
    "import matplotlib.pyplot as plt\n",
    "import seaborn as sns\n",
    "%matplotlib inline"
   ]
  },
  {
   "cell_type": "markdown",
   "metadata": {},
   "source": [
    "# Data Transformation"
   ]
  },
  {
   "cell_type": "markdown",
   "metadata": {},
   "source": [
    "## Data Loading "
   ]
  },
  {
   "cell_type": "code",
   "execution_count": 2,
   "metadata": {
    "collapsed": true
   },
   "outputs": [],
   "source": [
    "df = pd.read_csv('datasets/train_cleaned.csv', index_col='MachineIdentifier')"
   ]
  },
  {
   "cell_type": "markdown",
   "metadata": {},
   "source": [
    "## Categorical Data Analysis "
   ]
  },
  {
   "cell_type": "code",
   "execution_count": 3,
   "metadata": {
    "collapsed": true
   },
   "outputs": [],
   "source": [
    "columns_categorical = df.select_dtypes(include=['object']).columns"
   ]
  },
  {
   "cell_type": "code",
   "execution_count": 4,
   "metadata": {
    "collapsed": true
   },
   "outputs": [],
   "source": [
    "# Threshold of the size of different values of each categorical data\n",
    "h_threshold = 350"
   ]
  },
  {
   "cell_type": "code",
   "execution_count": 5,
   "metadata": {},
   "outputs": [
    {
     "name": "stdout",
     "output_type": "stream",
     "text": [
      "ProductName :  2 \n",
      "EngineVersion :  57 \n",
      "AppVersion :  101 \n",
      "AvSigVersion :  6856 , PARTITION\n",
      "Platform :  3 \n",
      "Processor :  3 \n",
      "OsVer :  33 \n",
      "OsPlatformSubRelease :  9 \n",
      "OsBuildLab :  418 , PARTITION\n",
      "SkuEdition :  7 \n",
      "SmartScreen :  16 \n",
      "Census_MDC2FormFactor :  11 \n",
      "Census_DeviceFamily :  3 \n",
      "Census_PrimaryDiskTypeName :  4 \n",
      "Census_ChassisTypeName :  40 \n",
      "Census_PowerPlatformRoleName :  9 \n",
      "Census_OSVersion :  359 , PARTITION\n",
      "Census_OSArchitecture :  3 \n",
      "Census_OSBranch :  15 \n",
      "Census_OSEdition :  24 \n",
      "Census_OSSkuName :  23 \n",
      "Census_OSInstallTypeName :  9 \n",
      "Census_OSWUAutoUpdateOptionsName :  5 \n",
      "Census_GenuineStateName :  4 \n",
      "Census_ActivationChannel :  5 \n",
      "Census_FlightRing :  9 \n",
      "Total new vars: 8028\n"
     ]
    }
   ],
   "source": [
    "total = 0\n",
    "columns_to_partition = []\n",
    "columns_to_onehot = []\n",
    "for c in columns_categorical:\n",
    "    values = df[c].nunique()\n",
    "    suf = \"\"\n",
    "    if (values > h_threshold):\n",
    "        columns_to_partition.append(c)\n",
    "        suf = ', PARTITION'\n",
    "    else:\n",
    "        columns_to_onehot.append(c)\n",
    "    total += values\n",
    "    print(c,': ',values,suf)\n",
    "print('Total new vars: ' + str(total))"
   ]
  },
  {
   "cell_type": "markdown",
   "metadata": {},
   "source": [
    "## Segmentation"
   ]
  },
  {
   "cell_type": "markdown",
   "metadata": {},
   "source": [
    "We are going to split the dataset based on the most scattered categorical variables  "
   ]
  },
  {
   "cell_type": "code",
   "execution_count": 6,
   "metadata": {},
   "outputs": [
    {
     "data": {
      "text/plain": [
       "['AvSigVersion', 'OsBuildLab', 'Census_OSVersion']"
      ]
     },
     "execution_count": 6,
     "metadata": {},
     "output_type": "execute_result"
    }
   ],
   "source": [
    "columns_to_partition"
   ]
  },
  {
   "cell_type": "code",
   "execution_count": 7,
   "metadata": {
    "collapsed": true
   },
   "outputs": [],
   "source": [
    "asvGB = df.groupby(columns_to_partition)['ProductName'].count()"
   ]
  },
  {
   "cell_type": "code",
   "execution_count": 8,
   "metadata": {
    "collapsed": true
   },
   "outputs": [],
   "source": [
    "# ... Maybe it is not a good idea to order this this way\n",
    "#asvGB.sort_values(ascending=False, inplace=True)"
   ]
  },
  {
   "cell_type": "code",
   "execution_count": 9,
   "metadata": {
    "collapsed": true
   },
   "outputs": [],
   "source": [
    "asvGBdf=asvGB.to_frame()\n",
    "asvGBdf.columns=['count']\n",
    "asvGBdf.sort_index(level=[0,1,2],inplace=True)"
   ]
  },
  {
   "cell_type": "code",
   "execution_count": 10,
   "metadata": {},
   "outputs": [
    {
     "data": {
      "text/plain": [
       "[<matplotlib.lines.Line2D at 0x1a1be694a8>]"
      ]
     },
     "execution_count": 10,
     "metadata": {},
     "output_type": "execute_result"
    },
    {
     "data": {
      "image/png": "[encoded data removed]",
      "text/plain": [
       "<matplotlib.figure.Figure at 0x1a1ec430f0>"
      ]
     },
     "metadata": {},
     "output_type": "display_data"
    }
   ],
   "source": [
    "plt.plot(asvGBdf['count'].values)"
   ]
  },
  {
   "cell_type": "markdown",
   "metadata": {
    "collapsed": true
   },
   "source": [
    "Now, let's select indicators for each group and create a dictionary. Each group will have 200.000 elements aprox:"
   ]
  },
  {
   "cell_type": "code",
   "execution_count": 11,
   "metadata": {
    "collapsed": true
   },
   "outputs": [],
   "source": [
    "NE = 364000"
   ]
  },
  {
   "cell_type": "code",
   "execution_count": 12,
   "metadata": {
    "collapsed": true
   },
   "outputs": [],
   "source": [
    "asvGBDict = asvGBdf.to_dict()"
   ]
  },
  {
   "cell_type": "code",
   "execution_count": 13,
   "metadata": {
    "collapsed": true
   },
   "outputs": [],
   "source": [
    "acc = 0\n",
    "f=1 # fold\n",
    "\n",
    "foldDict = {}\n",
    "for key, value in asvGBDict['count'].items():\n",
    "    acc += value\n",
    "    if (acc > NE):\n",
    "        acc = 0\n",
    "        f += 1\n",
    "    foldDict[key]=f"
   ]
  },
  {
   "cell_type": "code",
   "execution_count": 14,
   "metadata": {
    "collapsed": true
   },
   "outputs": [],
   "source": [
    "def setFold(row):\n",
    "    real_row = row.values\n",
    "    return foldDict[(real_row[0],real_row[1],real_row[2])]"
   ]
  },
  {
   "cell_type": "code",
   "execution_count": 15,
   "metadata": {
    "collapsed": true
   },
   "outputs": [],
   "source": [
    "df['fold'] = df[columns_to_partition].apply(axis=1, func=setFold)"
   ]
  },
  {
   "cell_type": "code",
   "execution_count": 16,
   "metadata": {},
   "outputs": [
    {
     "data": {
      "text/plain": [
       "<matplotlib.axes._subplots.AxesSubplot at 0x1a29ddbba8>"
      ]
     },
     "execution_count": 16,
     "metadata": {},
     "output_type": "execute_result"
    },
    {
     "data": {
      "image/png": "[encoded data removed]",
      "text/plain": [
       "<matplotlib.figure.Figure at 0x1a1a172748>"
      ]
     },
     "metadata": {},
     "output_type": "display_data"
    }
   ],
   "source": [
    "sns.countplot(data=df, x='fold')"
   ]
  },
  {
   "cell_type": "markdown",
   "metadata": {},
   "source": [
    "We have all this folds to train, let's  get the different files with 50% of data to train the ensembled block:"
   ]
  },
  {
   "cell_type": "code",
   "execution_count": 17,
   "metadata": {
    "collapsed": true
   },
   "outputs": [],
   "source": [
    "nFolds = df['fold'].nunique()"
   ]
  },
  {
   "cell_type": "code",
   "execution_count": 35,
   "metadata": {},
   "outputs": [
    {
     "name": "stdout",
     "output_type": "stream",
     "text": [
      "processing fold  1  ... \n"
     ]
    },
    {
     "name": "stderr",
     "output_type": "stream",
     "text": [
      "/anaconda3/lib/python3.6/site-packages/ipykernel_launcher.py:9: SettingWithCopyWarning: \n",
      "A value is trying to be set on a copy of a slice from a DataFrame\n",
      "\n",
      "See the caveats in the documentation: http://pandas.pydata.org/pandas-docs/stable/indexing.html#indexing-view-versus-copy\n",
      "  if __name__ == '__main__':\n"
     ]
    },
    {
     "name": "stdout",
     "output_type": "stream",
     "text": [
      "processing fold  2  ... \n",
      "processing fold  3  ... \n",
      "processing fold  4  ... \n",
      "processing fold  5  ... \n",
      "processing fold  6  ... \n",
      "processing fold  7  ... \n",
      "processing fold  8  ... \n",
      "processing fold  9  ... \n"
     ]
    }
   ],
   "source": [
    "for i in range(nFolds):\n",
    "    print('processing fold ',(i+1),' ... ')\n",
    "    fold_df = df[df['fold']==(i+1)]\n",
    "    m=fold_df.shape[0]\n",
    "    tm = int(m/2)\n",
    "    ensemble_df = fold_df[0:tm]\n",
    "    stack_df = fold_df[tm:]\n",
    "    train_fold_name = 'datasets/train_fold' + str(i+1) + '.csv'\n",
    "    ensemble_df.drop(labels=['fold'],axis=1,inplace=True)\n",
    "    ensemble_df.to_csv(train_fold_name)\n",
    "    if (i == 0):\n",
    "        stack_complete_df = stack_df.copy()\n",
    "    else:\n",
    "        stack_complete_df = pd.concat([stack_complete_df, stack_df])"
   ]
  },
  {
   "cell_type": "code",
   "execution_count": 38,
   "metadata": {
    "collapsed": true
   },
   "outputs": [],
   "source": [
    "stack_complete_df.to_csv('datasets/train_stack.csv')"
   ]
  },
  {
   "cell_type": "markdown",
   "metadata": {
    "collapsed": true
   },
   "source": [
    "# End of Analisys! "
   ]
  },
  {
   "cell_type": "markdown",
   "metadata": {},
   "source": [
    "After this execution we have the \"folded\" datasets and the \"stacking\" dataset!"
   ]
  },
  {
   "cell_type": "code",
   "execution_count": null,
   "metadata": {
    "collapsed": true
   },
   "outputs": [],
   "source": []
  }
 ],
 "metadata": {
  "kernelspec": {
   "display_name": "Python 3",
   "language": "python",
   "name": "python3"
  },
  "language_info": {
   "codemirror_mode": {
    "name": "ipython",
    "version": 3
   },
   "file_extension": ".py",
   "mimetype": "text/x-python",
   "name": "python",
   "nbconvert_exporter": "python",
   "pygments_lexer": "ipython3",
   "version": "3.6.3"
  }
 },
 "nbformat": 4,
 "nbformat_minor": 2
}
