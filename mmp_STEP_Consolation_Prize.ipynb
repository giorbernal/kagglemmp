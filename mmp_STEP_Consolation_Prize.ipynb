{
 "cells": [
  {
   "cell_type": "markdown",
   "metadata": {},
   "source": [
    "# Consolation Prize"
   ]
  },
  {
   "cell_type": "markdown",
   "metadata": {},
   "source": [
    "Evaluating the whole test dataset only with one fold ... . Consolation Prize ..."
   ]
  },
  {
   "cell_type": "code",
   "execution_count": null,
   "metadata": {
    "collapsed": true
   },
   "outputs": [],
   "source": [
    "import numpy as np\n",
    "import pandas as pd\n",
    "import matplotlib.pyplot as plt\n",
    "import seaborn as sns\n",
    "%matplotlib inline"
   ]
  },
  {
   "cell_type": "code",
   "execution_count": null,
   "metadata": {
    "collapsed": true
   },
   "outputs": [],
   "source": [
    "from utils.trainFold import getVector"
   ]
  },
  {
   "cell_type": "code",
   "execution_count": null,
   "metadata": {
    "collapsed": true
   },
   "outputs": [],
   "source": [
    "import sys\n",
    "sys.path.append('../dsbase/src/main')\n",
    "from AdaBoostClassificationDSBase import AdaBoostClassificationDSBaseModel"
   ]
  },
  {
   "cell_type": "markdown",
   "metadata": {},
   "source": [
    "## Loading the test dataset"
   ]
  },
  {
   "cell_type": "code",
   "execution_count": null,
   "metadata": {
    "collapsed": true
   },
   "outputs": [],
   "source": [
    "# cat datasets/test.csv | head -n +1001 > datasets/test_reduced.csv"
   ]
  },
  {
   "cell_type": "code",
   "execution_count": null,
   "metadata": {
    "collapsed": true
   },
   "outputs": [],
   "source": [
    "df = pd.read_csv('datasets/test_reduced.csv')"
   ]
  },
  {
   "cell_type": "code",
   "execution_count": null,
   "metadata": {
    "collapsed": true
   },
   "outputs": [],
   "source": [
    "# TODO Clean as training"
   ]
  },
  {
   "cell_type": "markdown",
   "metadata": {},
   "source": [
    "## Defining the Fold X processing "
   ]
  },
  {
   "cell_type": "markdown",
   "metadata": {},
   "source": [
    "### Defining helping functions "
   ]
  },
  {
   "cell_type": "code",
   "execution_count": null,
   "metadata": {
    "collapsed": true
   },
   "outputs": [],
   "source": [
    "def loadColumnCategoricalOrder(df, columns_categorical):\n",
    "    columns_categorical_order_dict = {}\n",
    "    for x in columns_categorical:\n",
    "        columns_categorical_order_dict[x] = np.where(df.columns == x)[0][0]\n",
    "    return columns_categorical_order_dict"
   ]
  },
  {
   "cell_type": "code",
   "execution_count": null,
   "metadata": {
    "collapsed": true
   },
   "outputs": [],
   "source": [
    "def loadColumnCategoricalVectors(fold_id, columns_categorical):\n",
    "    columns_categorical_vectors_dict = {}\n",
    "    out_path = 'models/fold' + str(fold_id)\n",
    "    for c in columns_categorical:\n",
    "        vec = np.load('models/fold' + str(fold_id) + \"/\" + c + \".sav.npy\")\n",
    "        columns_categorical_vectors_dict[c] = vec\n",
    "    return columns_categorical_vectors_dict"
   ]
  },
  {
   "cell_type": "code",
   "execution_count": null,
   "metadata": {
    "collapsed": true
   },
   "outputs": [],
   "source": [
    "def loadModel(fold_id):\n",
    "   # --------------------------------------\n",
    "    # Load the i-th model and process\n",
    "    print('   loading model ...')    \n",
    "    model = AdaBoostClassificationDSBaseModel('AB2',None,None,None,None,None,None)\n",
    "    model.load('models/fold' + str(fold_id))\n",
    "    return model"
   ]
  },
  {
   "cell_type": "code",
   "execution_count": null,
   "metadata": {
    "collapsed": true
   },
   "outputs": [],
   "source": [
    "std=0.0029913775285332835"
   ]
  },
  {
   "cell_type": "code",
   "execution_count": null,
   "metadata": {
    "collapsed": true
   },
   "outputs": [],
   "source": [
    "def calculate(x, cc, cc_o, cc_v, model, df_clean):    \n",
    "    xp = x.values\n",
    "    mi=xp[0]\n",
    "    #xnp = xp[1:]\n",
    "    acc=0\n",
    "    try:\n",
    "        #print('mi: ' + mi)\n",
    "        xnp = df_clean.loc[mi].values\n",
    "        #print(' process:' + str(xnp))\n",
    "        for c in cc:\n",
    "            index = cc_o[c] + acc\n",
    "            vec = cc_v[c]\n",
    "            new = getVector(xnp[index], vec)\n",
    "            #print('  new: ' + str(new.shape))\n",
    "            xnp = np.delete(xnp, index)\n",
    "            #print('  xnp1: ' + str(xnp.shape))\n",
    "            xnp = np.insert(xnp, index, new)\n",
    "            #print('  xnp2: ' + str(xnp.shape))\n",
    "            acc += (new.size - 1)\n",
    "        pre_result = model.scalerX.transform(xnp.reshape(1,-1))\n",
    "        result = model.model.predict_proba(pre_result)\n",
    "        return result[0,1]\n",
    "    except KeyError:\n",
    "        return 0.5 + np.random.normal(0,std,1)[0]"
   ]
  },
  {
   "cell_type": "markdown",
   "metadata": {},
   "source": [
    "### calculating support variables"
   ]
  },
  {
   "cell_type": "code",
   "execution_count": null,
   "metadata": {
    "collapsed": true
   },
   "outputs": [],
   "source": [
    "df_w = df.drop(['Census_ProcessorClass','Census_InternalBatteryType','DefaultBrowsersIdentifier','Census_IsFlightingInternal','Census_ThresholdOptIn','Census_IsWIMBootEnabled','PuaMode'], axis=1)\n",
    "columns_categorical = df_w.select_dtypes(include=['object']).columns[1:]"
   ]
  },
  {
   "cell_type": "code",
   "execution_count": null,
   "metadata": {
    "collapsed": true
   },
   "outputs": [],
   "source": [
    "df_w.dropna(inplace=True)"
   ]
  },
  {
   "cell_type": "code",
   "execution_count": null,
   "metadata": {
    "collapsed": true
   },
   "outputs": [],
   "source": [
    "df_w.set_index(['MachineIdentifier'], inplace=True)"
   ]
  },
  {
   "cell_type": "code",
   "execution_count": null,
   "metadata": {},
   "outputs": [],
   "source": [
    "df_w.shape"
   ]
  },
  {
   "cell_type": "code",
   "execution_count": null,
   "metadata": {
    "collapsed": true
   },
   "outputs": [],
   "source": [
    "cc_order = loadColumnCategoricalOrder(df_w,columns_categorical)"
   ]
  },
  {
   "cell_type": "code",
   "execution_count": null,
   "metadata": {},
   "outputs": [],
   "source": [
    "i = 2\n",
    "print('-------- Process Fold ',i,' -------------------')\n",
    "print('loading vectors ...')\n",
    "cc_values_f = loadColumnCategoricalVectors(i,columns_categorical)\n",
    "print('loading model ...')\n",
    "model_f = loadModel(i)\n",
    "print('applying folding prediction ...')\n",
    "df['HasDetections'] = df.apply(func=calculate, axis=1, args=(columns_categorical, cc_order, cc_values_f, model_f, df_w))"
   ]
  },
  {
   "cell_type": "markdown",
   "metadata": {},
   "source": [
    "## Save final dataset "
   ]
  },
  {
   "cell_type": "code",
   "execution_count": null,
   "metadata": {},
   "outputs": [],
   "source": [
    "df[['MachineIdentifier','HasDetections']].to_csv('datasets/submission.csv', index=False)"
   ]
  },
  {
   "cell_type": "markdown",
   "metadata": {
    "collapsed": true
   },
   "source": [
    "# End of submission setting!! "
   ]
  },
  {
   "cell_type": "code",
   "execution_count": null,
   "metadata": {
    "collapsed": true
   },
   "outputs": [],
   "source": []
  }
 ],
 "metadata": {
  "kernelspec": {
   "display_name": "Python 3",
   "language": "python",
   "name": "python3"
  },
  "language_info": {
   "codemirror_mode": {
    "name": "ipython",
    "version": 3
   },
   "file_extension": ".py",
   "mimetype": "text/x-python",
   "name": "python",
   "nbconvert_exporter": "python",
   "pygments_lexer": "ipython3",
   "version": "3.6.3"
  }
 },
 "nbformat": 4,
 "nbformat_minor": 2
}
