{
 "cells": [
  {
   "cell_type": "markdown",
   "metadata": {},
   "source": [
    "# Setting of stack phase "
   ]
  },
  {
   "cell_type": "markdown",
   "metadata": {},
   "source": [
    "At this phase we are going to set the stacked-phase dataset. This method is based just in apply method. It implies less memory."
   ]
  },
  {
   "cell_type": "code",
   "execution_count": 16,
   "metadata": {
    "collapsed": true
   },
   "outputs": [],
   "source": [
    "import numpy as np\n",
    "import pandas as pd\n",
    "import matplotlib.pyplot as plt\n",
    "import seaborn as sns\n",
    "%matplotlib inline"
   ]
  },
  {
   "cell_type": "code",
   "execution_count": 2,
   "metadata": {
    "collapsed": true
   },
   "outputs": [],
   "source": [
    "from utils.trainFold import getVector"
   ]
  },
  {
   "cell_type": "code",
   "execution_count": 3,
   "metadata": {
    "collapsed": true
   },
   "outputs": [],
   "source": [
    "import sys\n",
    "sys.path.append('../dsbase/src/main')\n",
    "from AdaBoostClassificationDSBase import AdaBoostClassificationDSBaseModel"
   ]
  },
  {
   "cell_type": "markdown",
   "metadata": {},
   "source": [
    "## Loading the original stacked dataset and shuffle it"
   ]
  },
  {
   "cell_type": "code",
   "execution_count": 17,
   "metadata": {
    "collapsed": true
   },
   "outputs": [],
   "source": [
    "df = pd.read_csv('datasets/train_stack_reduced.csv')"
   ]
  },
  {
   "cell_type": "code",
   "execution_count": null,
   "metadata": {
    "collapsed": true
   },
   "outputs": [],
   "source": [
    "df_frac = df.sample(frac=0.3)"
   ]
  },
  {
   "cell_type": "code",
   "execution_count": 6,
   "metadata": {},
   "outputs": [
    {
     "data": {
      "text/plain": [
       "(1000, 77)"
      ]
     },
     "execution_count": 6,
     "metadata": {},
     "output_type": "execute_result"
    }
   ],
   "source": [
    "df.shape"
   ]
  },
  {
   "cell_type": "markdown",
   "metadata": {},
   "source": [
    "## Defining the Fold X processing "
   ]
  },
  {
   "cell_type": "markdown",
   "metadata": {},
   "source": [
    "### Defining helping functions "
   ]
  },
  {
   "cell_type": "code",
   "execution_count": 7,
   "metadata": {
    "collapsed": true
   },
   "outputs": [],
   "source": [
    "def loadColumnCategoricalOrder(df, columns_categorical):\n",
    "    columns_categorical_order_dict = {}\n",
    "    for x in columns_categorical:\n",
    "        columns_categorical_order_dict[x] = np.where(df.columns == x)[0][0]\n",
    "    return columns_categorical_order_dict"
   ]
  },
  {
   "cell_type": "code",
   "execution_count": 8,
   "metadata": {
    "collapsed": true
   },
   "outputs": [],
   "source": [
    "def loadColumnCategoricalVectors(fold_id, columns_categorical):\n",
    "    columns_categorical_vectors_dict = {}\n",
    "    out_path = 'models/fold' + str(fold_id)\n",
    "    for c in columns_categorical:\n",
    "        vec = np.load('models/fold' + str(fold_id) + \"/\" + c + \".sav.npy\")\n",
    "        columns_categorical_vectors_dict[c] = vec\n",
    "    return columns_categorical_vectors_dict"
   ]
  },
  {
   "cell_type": "code",
   "execution_count": 9,
   "metadata": {
    "collapsed": true
   },
   "outputs": [],
   "source": [
    "def loadModel(fold_id):\n",
    "   # --------------------------------------\n",
    "    # Load the i-th model and process\n",
    "    print('   loading model ...')    \n",
    "    model = AdaBoostClassificationDSBaseModel('AB2',None,None,None,None,None,None)\n",
    "    model.load('models/fold' + str(fold_id))\n",
    "    return model"
   ]
  },
  {
   "cell_type": "code",
   "execution_count": 10,
   "metadata": {
    "collapsed": true
   },
   "outputs": [],
   "source": [
    "def calculateF1(x, cc, cc_o, cc_v, model):\n",
    "    xnp = x.values\n",
    "    acc=0\n",
    "    for c in cc:\n",
    "        index = cc_o[c] + acc\n",
    "        vec = cc_v[c]\n",
    "        new = getVector(xnp[index], vec)\n",
    "        xnp = np.delete(xnp, index)\n",
    "        xnp = np.insert(xnp, index, new)\n",
    "        acc += (new.size - 1)\n",
    "    pre_result = model.scalerX.transform(xnp.reshape(1,-1))\n",
    "    result = model.model.predict_proba(pre_result)\n",
    "    return result[0,1]"
   ]
  },
  {
   "cell_type": "markdown",
   "metadata": {},
   "source": [
    "### calculating support variables"
   ]
  },
  {
   "cell_type": "code",
   "execution_count": 11,
   "metadata": {
    "collapsed": true
   },
   "outputs": [],
   "source": [
    "df_w = df.drop(['MachineIdentifier','HasDetections','fold'], axis=1)\n",
    "columns_categorical = df_w.select_dtypes(include=['object']).columns"
   ]
  },
  {
   "cell_type": "code",
   "execution_count": 12,
   "metadata": {
    "collapsed": true
   },
   "outputs": [],
   "source": [
    "cc_order = loadColumnCategoricalOrder(df_w,columns_categorical)"
   ]
  },
  {
   "cell_type": "code",
   "execution_count": 13,
   "metadata": {},
   "outputs": [
    {
     "name": "stdout",
     "output_type": "stream",
     "text": [
      "-------- Process Fold  1  -------------------\n",
      "loading vectors ...\n",
      "loading model ...\n",
      "   loading model ...\n",
      "initiating empty model AB2. AdaBoostClassification\n",
      "loading model: models/fold1/AdaBoostClassification_AB2.sav\n",
      "applying folding prediction ...\n"
     ]
    },
    {
     "name": "stderr",
     "output_type": "stream",
     "text": [
      "/anaconda3/lib/python3.6/site-packages/sklearn/base.py:311: UserWarning: Trying to unpickle estimator DecisionTreeClassifier from version 0.20.2 when using version 0.19.1. This might lead to breaking code or invalid results. Use at your own risk.\n",
      "  UserWarning)\n",
      "/anaconda3/lib/python3.6/site-packages/sklearn/base.py:311: UserWarning: Trying to unpickle estimator AdaBoostClassifier from version 0.20.2 when using version 0.19.1. This might lead to breaking code or invalid results. Use at your own risk.\n",
      "  UserWarning)\n",
      "/anaconda3/lib/python3.6/site-packages/sklearn/base.py:311: UserWarning: Trying to unpickle estimator MinMaxScaler from version 0.20.2 when using version 0.19.1. This might lead to breaking code or invalid results. Use at your own risk.\n",
      "  UserWarning)\n"
     ]
    },
    {
     "name": "stdout",
     "output_type": "stream",
     "text": [
      "-------- Process Fold  2  -------------------\n",
      "loading vectors ...\n",
      "loading model ...\n",
      "   loading model ...\n",
      "initiating empty model AB2. AdaBoostClassification\n",
      "loading model: models/fold2/AdaBoostClassification_AB2.sav\n",
      "applying folding prediction ...\n",
      "-------- Process Fold  3  -------------------\n",
      "loading vectors ...\n",
      "loading model ...\n",
      "   loading model ...\n",
      "initiating empty model AB2. AdaBoostClassification\n",
      "loading model: models/fold3/AdaBoostClassification_AB2.sav\n",
      "applying folding prediction ...\n",
      "-------- Process Fold  4  -------------------\n",
      "loading vectors ...\n",
      "loading model ...\n",
      "   loading model ...\n",
      "initiating empty model AB2. AdaBoostClassification\n",
      "loading model: models/fold4/AdaBoostClassification_AB2.sav\n",
      "applying folding prediction ...\n",
      "-------- Process Fold  5  -------------------\n",
      "loading vectors ...\n",
      "loading model ...\n",
      "   loading model ...\n",
      "initiating empty model AB2. AdaBoostClassification\n",
      "loading model: models/fold5/AdaBoostClassification_AB2.sav\n",
      "applying folding prediction ...\n",
      "-------- Process Fold  6  -------------------\n",
      "loading vectors ...\n",
      "loading model ...\n",
      "   loading model ...\n",
      "initiating empty model AB2. AdaBoostClassification\n",
      "loading model: models/fold6/AdaBoostClassification_AB2.sav\n",
      "applying folding prediction ...\n",
      "-------- Process Fold  7  -------------------\n",
      "loading vectors ...\n",
      "loading model ...\n",
      "   loading model ...\n",
      "initiating empty model AB2. AdaBoostClassification\n",
      "loading model: models/fold7/AdaBoostClassification_AB2.sav\n",
      "applying folding prediction ...\n",
      "-------- Process Fold  8  -------------------\n",
      "loading vectors ...\n",
      "loading model ...\n",
      "   loading model ...\n",
      "initiating empty model AB2. AdaBoostClassification\n",
      "loading model: models/fold8/AdaBoostClassification_AB2.sav\n",
      "applying folding prediction ...\n",
      "-------- Process Fold  9  -------------------\n",
      "loading vectors ...\n",
      "loading model ...\n",
      "   loading model ...\n",
      "initiating empty model AB2. AdaBoostClassification\n",
      "loading model: models/fold9/AdaBoostClassification_AB2.sav\n",
      "applying folding prediction ...\n"
     ]
    }
   ],
   "source": [
    "N = 9\n",
    "for i in range(1,N+1):\n",
    "    print('-------- Process Fold ',i,' -------------------')\n",
    "    print('loading vectors ...')\n",
    "    cc_values_f = loadColumnCategoricalVectors(i,columns_categorical)\n",
    "    print('loading model ...')\n",
    "    model_f = loadModel(i)\n",
    "    print('applying folding prediction ...')\n",
    "    df['f' + str(i)] = df_w.apply(func=calculateF1, axis=1, args=(columns_categorical, cc_order, cc_values_f, model_f))\n",
    "    # save security DatFrame\n",
    "    df['f' + str(i)].to_csv('datasets/f_stack.csv.' + str(i))"
   ]
  },
  {
   "cell_type": "markdown",
   "metadata": {},
   "source": [
    "## Lets obtain the final stacked dataset "
   ]
  },
  {
   "cell_type": "code",
   "execution_count": 14,
   "metadata": {},
   "outputs": [
    {
     "data": {
      "text/html": [
       "<div>\n",
       "<style>\n",
       "    .dataframe thead tr:only-child th {\n",
       "        text-align: right;\n",
       "    }\n",
       "\n",
       "    .dataframe thead th {\n",
       "        text-align: left;\n",
       "    }\n",
       "\n",
       "    .dataframe tbody tr th {\n",
       "        vertical-align: top;\n",
       "    }\n",
       "</style>\n",
       "<table border=\"1\" class=\"dataframe\">\n",
       "  <thead>\n",
       "    <tr style=\"text-align: right;\">\n",
       "      <th></th>\n",
       "      <th>HasDetections</th>\n",
       "      <th>fold</th>\n",
       "      <th>f1</th>\n",
       "      <th>f2</th>\n",
       "      <th>f3</th>\n",
       "      <th>f4</th>\n",
       "      <th>f5</th>\n",
       "      <th>f6</th>\n",
       "      <th>f7</th>\n",
       "      <th>f8</th>\n",
       "      <th>f9</th>\n",
       "    </tr>\n",
       "  </thead>\n",
       "  <tbody>\n",
       "    <tr>\n",
       "      <th>count</th>\n",
       "      <td>1000.000000</td>\n",
       "      <td>1000.0</td>\n",
       "      <td>1000.000000</td>\n",
       "      <td>1000.000000</td>\n",
       "      <td>1000.000000</td>\n",
       "      <td>1000.000000</td>\n",
       "      <td>1000.000000</td>\n",
       "      <td>1000.000000</td>\n",
       "      <td>1000.000000</td>\n",
       "      <td>1000.000000</td>\n",
       "      <td>1000.000000</td>\n",
       "    </tr>\n",
       "    <tr>\n",
       "      <th>mean</th>\n",
       "      <td>0.342000</td>\n",
       "      <td>1.0</td>\n",
       "      <td>0.492094</td>\n",
       "      <td>0.490333</td>\n",
       "      <td>0.495450</td>\n",
       "      <td>0.492777</td>\n",
       "      <td>0.491359</td>\n",
       "      <td>0.500872</td>\n",
       "      <td>0.499190</td>\n",
       "      <td>0.489582</td>\n",
       "      <td>0.498563</td>\n",
       "    </tr>\n",
       "    <tr>\n",
       "      <th>std</th>\n",
       "      <td>0.474617</td>\n",
       "      <td>0.0</td>\n",
       "      <td>0.000897</td>\n",
       "      <td>0.002987</td>\n",
       "      <td>0.003312</td>\n",
       "      <td>0.000734</td>\n",
       "      <td>0.000817</td>\n",
       "      <td>0.000569</td>\n",
       "      <td>0.000810</td>\n",
       "      <td>0.000862</td>\n",
       "      <td>0.000687</td>\n",
       "    </tr>\n",
       "    <tr>\n",
       "      <th>min</th>\n",
       "      <td>0.000000</td>\n",
       "      <td>1.0</td>\n",
       "      <td>0.488196</td>\n",
       "      <td>0.485964</td>\n",
       "      <td>0.487663</td>\n",
       "      <td>0.489597</td>\n",
       "      <td>0.487136</td>\n",
       "      <td>0.497999</td>\n",
       "      <td>0.496603</td>\n",
       "      <td>0.482904</td>\n",
       "      <td>0.494666</td>\n",
       "    </tr>\n",
       "    <tr>\n",
       "      <th>25%</th>\n",
       "      <td>0.000000</td>\n",
       "      <td>1.0</td>\n",
       "      <td>0.491872</td>\n",
       "      <td>0.490126</td>\n",
       "      <td>0.494771</td>\n",
       "      <td>0.492324</td>\n",
       "      <td>0.491184</td>\n",
       "      <td>0.500722</td>\n",
       "      <td>0.498742</td>\n",
       "      <td>0.489307</td>\n",
       "      <td>0.498417</td>\n",
       "    </tr>\n",
       "    <tr>\n",
       "      <th>50%</th>\n",
       "      <td>0.000000</td>\n",
       "      <td>1.0</td>\n",
       "      <td>0.491872</td>\n",
       "      <td>0.490286</td>\n",
       "      <td>0.495126</td>\n",
       "      <td>0.492950</td>\n",
       "      <td>0.491184</td>\n",
       "      <td>0.500722</td>\n",
       "      <td>0.499337</td>\n",
       "      <td>0.489766</td>\n",
       "      <td>0.498666</td>\n",
       "    </tr>\n",
       "    <tr>\n",
       "      <th>75%</th>\n",
       "      <td>1.000000</td>\n",
       "      <td>1.0</td>\n",
       "      <td>0.492135</td>\n",
       "      <td>0.490286</td>\n",
       "      <td>0.495392</td>\n",
       "      <td>0.492985</td>\n",
       "      <td>0.491562</td>\n",
       "      <td>0.501151</td>\n",
       "      <td>0.499337</td>\n",
       "      <td>0.489766</td>\n",
       "      <td>0.498811</td>\n",
       "    </tr>\n",
       "    <tr>\n",
       "      <th>max</th>\n",
       "      <td>1.000000</td>\n",
       "      <td>1.0</td>\n",
       "      <td>0.497794</td>\n",
       "      <td>0.579553</td>\n",
       "      <td>0.504598</td>\n",
       "      <td>0.496742</td>\n",
       "      <td>0.494488</td>\n",
       "      <td>0.503801</td>\n",
       "      <td>0.505086</td>\n",
       "      <td>0.495320</td>\n",
       "      <td>0.501162</td>\n",
       "    </tr>\n",
       "  </tbody>\n",
       "</table>\n",
       "</div>"
      ],
      "text/plain": [
       "       HasDetections    fold           f1           f2           f3  \\\n",
       "count    1000.000000  1000.0  1000.000000  1000.000000  1000.000000   \n",
       "mean        0.342000     1.0     0.492094     0.490333     0.495450   \n",
       "std         0.474617     0.0     0.000897     0.002987     0.003312   \n",
       "min         0.000000     1.0     0.488196     0.485964     0.487663   \n",
       "25%         0.000000     1.0     0.491872     0.490126     0.494771   \n",
       "50%         0.000000     1.0     0.491872     0.490286     0.495126   \n",
       "75%         1.000000     1.0     0.492135     0.490286     0.495392   \n",
       "max         1.000000     1.0     0.497794     0.579553     0.504598   \n",
       "\n",
       "                f4           f5           f6           f7           f8  \\\n",
       "count  1000.000000  1000.000000  1000.000000  1000.000000  1000.000000   \n",
       "mean      0.492777     0.491359     0.500872     0.499190     0.489582   \n",
       "std       0.000734     0.000817     0.000569     0.000810     0.000862   \n",
       "min       0.489597     0.487136     0.497999     0.496603     0.482904   \n",
       "25%       0.492324     0.491184     0.500722     0.498742     0.489307   \n",
       "50%       0.492950     0.491184     0.500722     0.499337     0.489766   \n",
       "75%       0.492985     0.491562     0.501151     0.499337     0.489766   \n",
       "max       0.496742     0.494488     0.503801     0.505086     0.495320   \n",
       "\n",
       "                f9  \n",
       "count  1000.000000  \n",
       "mean      0.498563  \n",
       "std       0.000687  \n",
       "min       0.494666  \n",
       "25%       0.498417  \n",
       "50%       0.498666  \n",
       "75%       0.498811  \n",
       "max       0.501162  "
      ]
     },
     "execution_count": 14,
     "metadata": {},
     "output_type": "execute_result"
    }
   ],
   "source": [
    "df[['HasDetections','fold','f1','f2','f3','f4','f5','f6','f7','f8','f9']].describe()"
   ]
  },
  {
   "cell_type": "code",
   "execution_count": 15,
   "metadata": {
    "collapsed": true
   },
   "outputs": [],
   "source": [
    "df.to_csv('datasets/train_stack_set.csv')"
   ]
  },
  {
   "cell_type": "markdown",
   "metadata": {
    "collapsed": true
   },
   "source": [
    "# End of stack train setting!! "
   ]
  },
  {
   "cell_type": "markdown",
   "metadata": {
    "collapsed": true
   },
   "source": [
    "Local Environment: stimated time -> 322 sec / 1000 elements\n",
    "AWS EC2:  stimated time -> 322 sec / ???elements"
   ]
  },
  {
   "cell_type": "code",
   "execution_count": null,
   "metadata": {
    "collapsed": true
   },
   "outputs": [],
   "source": []
  }
 ],
 "metadata": {
  "kernelspec": {
   "display_name": "Python 3",
   "language": "python",
   "name": "python3"
  },
  "language_info": {
   "codemirror_mode": {
    "name": "ipython",
    "version": 3
   },
   "file_extension": ".py",
   "mimetype": "text/x-python",
   "name": "python",
   "nbconvert_exporter": "python",
   "pygments_lexer": "ipython3",
   "version": "3.6.3"
  }
 },
 "nbformat": 4,
 "nbformat_minor": 2
}
