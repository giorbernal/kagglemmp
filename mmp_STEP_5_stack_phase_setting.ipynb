{
 "cells": [
  {
   "cell_type": "markdown",
   "metadata": {},
   "source": [
    "# Setting of stack phase "
   ]
  },
  {
   "cell_type": "markdown",
   "metadata": {},
   "source": [
    "At this phase we are going to set the stacked-phase dataset "
   ]
  },
  {
   "cell_type": "code",
   "execution_count": 1,
   "metadata": {
    "collapsed": true
   },
   "outputs": [],
   "source": [
    "import numpy as np\n",
    "import pandas as pd\n",
    "import matplotlib.pyplot as plt\n",
    "import seaborn as sns\n",
    "%matplotlib inline"
   ]
  },
  {
   "cell_type": "code",
   "execution_count": 2,
   "metadata": {},
   "outputs": [],
   "source": [
    "from utils.trainFoldB import loadColumnsCategorical"
   ]
  },
  {
   "cell_type": "code",
   "execution_count": 3,
   "metadata": {
    "collapsed": true
   },
   "outputs": [],
   "source": [
    "import sys\n",
    "sys.path.append('../dsbase/src/main')\n",
    "from AdaBoostClassificationDSBase import AdaBoostClassificationDSBaseModel"
   ]
  },
  {
   "cell_type": "markdown",
   "metadata": {},
   "source": [
    "## Loading the original stacked dataset and shuffle it"
   ]
  },
  {
   "cell_type": "code",
   "execution_count": 4,
   "metadata": {},
   "outputs": [],
   "source": [
    "df = pd.read_csv('datasets/train_stack.csv')"
   ]
  },
  {
   "cell_type": "code",
   "execution_count": 5,
   "metadata": {
    "collapsed": true
   },
   "outputs": [],
   "source": [
    "df_frac = df.sample(frac=0.0005)"
   ]
  },
  {
   "cell_type": "code",
   "execution_count": 6,
   "metadata": {},
   "outputs": [
    {
     "data": {
      "text/plain": [
       "(815, 77)"
      ]
     },
     "execution_count": 6,
     "metadata": {},
     "output_type": "execute_result"
    }
   ],
   "source": [
    "df_frac.shape"
   ]
  },
  {
   "cell_type": "markdown",
   "metadata": {},
   "source": [
    "## Defining the Fold X processing "
   ]
  },
  {
   "cell_type": "code",
   "execution_count": 7,
   "metadata": {
    "collapsed": true
   },
   "outputs": [],
   "source": [
    "def getColumnFoldX(df, fold_id):\n",
    "    # Convert every element to a one-elenet List\n",
    "    print('   dataframe to list ...')\n",
    "    df_w = df.drop(['HasDetections','fold'], axis=1)\n",
    "    columns_categorical = df_w.select_dtypes(include=['object']).columns\n",
    "\n",
    "    # Comluns transformation\n",
    "    df_end = loadColumnsCategorical(fold_id, df_w, ['AvSigVersion','OsBuildLab','Census_OSVersion'])\n",
    "    \n",
    "    # --------------------------------------\n",
    "    # Load the i-th model and process\n",
    "    print('   loading model ...')    \n",
    "    model = AdaBoostClassificationDSBaseModel('AB2',None,None,None,None,None,None)\n",
    "    model.load('models/fold' + str(1))\n",
    "    \n",
    "    # Preparing data to be predicted\n",
    "    print('   getting rest of One-Hot ...')    \n",
    "    df_data_to_predict = pd.get_dummies(df_end)\n",
    "  \n",
    "    print('   Calculating: normalization ...')    \n",
    "    pre_result = model.scalerX.transform(df_data_to_predict.values)\n",
    "    print('   Calculating: probabilities ...')    \n",
    "    result = model.model.predict_proba(pre_result)\n",
    "    \n",
    "    # Set the result as a one-column DataFrame\n",
    "    print('   Creating result dataset ...')        \n",
    "    columns_name = [str('f' + str(fold_id))]\n",
    "    df_result = pd.DataFrame(result)\n",
    "    df_result.columns = columns_name\n",
    "    return df_result"
   ]
  },
  {
   "cell_type": "markdown",
   "metadata": {},
   "source": [
    "### Testing "
   ]
  },
  {
   "cell_type": "code",
   "execution_count": null,
   "metadata": {},
   "outputs": [
    {
     "name": "stdout",
     "output_type": "stream",
     "text": [
      "   dataframe to list ...\n",
      "   column \"AvSigVersion\" transformation ...\n",
      "   column \"OsBuildLab\" transformation ...\n",
      "   column \"Census_OSVersion\" transformation ...\n",
      "   loading model ...\n",
      "initiating empty model AB2. AdaBoostClassification\n",
      "loading model: models/fold1/AdaBoostClassification_AB2.sav\n",
      "   getting rest of One-Hot ...\n"
     ]
    },
    {
     "name": "stderr",
     "output_type": "stream",
     "text": [
      "/anaconda3/lib/python3.6/site-packages/sklearn/base.py:311: UserWarning: Trying to unpickle estimator DecisionTreeClassifier from version 0.20.2 when using version 0.19.1. This might lead to breaking code or invalid results. Use at your own risk.\n",
      "  UserWarning)\n",
      "/anaconda3/lib/python3.6/site-packages/sklearn/base.py:311: UserWarning: Trying to unpickle estimator AdaBoostClassifier from version 0.20.2 when using version 0.19.1. This might lead to breaking code or invalid results. Use at your own risk.\n",
      "  UserWarning)\n",
      "/anaconda3/lib/python3.6/site-packages/sklearn/base.py:311: UserWarning: Trying to unpickle estimator MinMaxScaler from version 0.20.2 when using version 0.19.1. This might lead to breaking code or invalid results. Use at your own risk.\n",
      "  UserWarning)\n"
     ]
    }
   ],
   "source": [
    "f1 = getColumnFoldX(df_frac,1)"
   ]
  },
  {
   "cell_type": "code",
   "execution_count": null,
   "metadata": {
    "collapsed": true
   },
   "outputs": [],
   "source": []
  },
  {
   "cell_type": "markdown",
   "metadata": {},
   "source": [
    "## Lets obtain the final stacked dataset "
   ]
  },
  {
   "cell_type": "code",
   "execution_count": null,
   "metadata": {
    "collapsed": true
   },
   "outputs": [],
   "source": [
    "N = 9 # Number of folds\n",
    "df_stack_set = df_frac\n",
    "for i in range(9):\n",
    "    print('processing fold ' + str(i+1) + \" ...\")\n",
    "    c = getColumnFoldX(df_frac, i+1)\n",
    "    df_stack_set = df_stack_set.join(c)"
   ]
  },
  {
   "cell_type": "code",
   "execution_count": null,
   "metadata": {
    "collapsed": true
   },
   "outputs": [],
   "source": [
    "df_stack_set.drop(['fold'], axis=1, inplace=True)"
   ]
  },
  {
   "cell_type": "code",
   "execution_count": null,
   "metadata": {
    "collapsed": true
   },
   "outputs": [],
   "source": []
  }
 ],
 "metadata": {
  "kernelspec": {
   "display_name": "Python 3",
   "language": "python",
   "name": "python3"
  },
  "language_info": {
   "codemirror_mode": {
    "name": "ipython",
    "version": 3
   },
   "file_extension": ".py",
   "mimetype": "text/x-python",
   "name": "python",
   "nbconvert_exporter": "python",
   "pygments_lexer": "ipython3",
   "version": "3.6.3"
  }
 },
 "nbformat": 4,
 "nbformat_minor": 2
}
