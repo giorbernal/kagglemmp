{
 "cells": [
  {
   "cell_type": "markdown",
   "metadata": {},
   "source": [
    "# EXP1: Initial Exploration"
   ]
  },
  {
   "cell_type": "markdown",
   "metadata": {},
   "source": [
    "Let's try to work with a subset of data to see a first aproach of data clasification with a couple of algorithmns "
   ]
  },
  {
   "cell_type": "code",
   "execution_count": 1,
   "metadata": {
    "collapsed": true
   },
   "outputs": [],
   "source": [
    "import numpy as np\n",
    "import pandas as pd\n",
    "import matplotlib.pyplot as plt\n",
    "import seaborn as sns\n",
    "%matplotlib inline"
   ]
  },
  {
   "cell_type": "markdown",
   "metadata": {},
   "source": [
    "# Data Exploration"
   ]
  },
  {
   "cell_type": "markdown",
   "metadata": {},
   "source": [
    "## Data Loading "
   ]
  },
  {
   "cell_type": "markdown",
   "metadata": {},
   "source": [
    "Let's load a reduced version of the dataset to explore: **cat datasets/train.csv | head -n +100001 > datasets/train_reduced.csv**"
   ]
  },
  {
   "cell_type": "code",
   "execution_count": 2,
   "metadata": {
    "collapsed": true
   },
   "outputs": [],
   "source": [
    "#! cat datasets/train.csv | head -n +100001 > datasets/train_reduced.csv"
   ]
  },
  {
   "cell_type": "code",
   "execution_count": 3,
   "metadata": {
    "collapsed": true
   },
   "outputs": [],
   "source": [
    "total_data=100000"
   ]
  },
  {
   "cell_type": "code",
   "execution_count": 4,
   "metadata": {},
   "outputs": [
    {
     "name": "stderr",
     "output_type": "stream",
     "text": [
      "/anaconda3/lib/python3.6/site-packages/IPython/core/interactiveshell.py:2698: DtypeWarning: Columns (28) have mixed types. Specify dtype option on import or set low_memory=False.\n",
      "  interactivity=interactivity, compiler=compiler, result=result)\n"
     ]
    }
   ],
   "source": [
    "df = pd.read_csv('datasets/train_reduced.csv', index_col='MachineIdentifier')"
   ]
  },
  {
   "cell_type": "markdown",
   "metadata": {},
   "source": [
    "## Data Description "
   ]
  },
  {
   "cell_type": "code",
   "execution_count": 5,
   "metadata": {},
   "outputs": [
    {
     "name": "stdout",
     "output_type": "stream",
     "text": [
      "<class 'pandas.core.frame.DataFrame'>\n",
      "Index: 100000 entries, 0000028988387b115f69f31a3bf04f09 to 02e125f54e5e4aefc7a42cae452fe9b2\n",
      "Data columns (total 82 columns):\n",
      "ProductName                                          100000 non-null object\n",
      "EngineVersion                                        100000 non-null object\n",
      "AppVersion                                           100000 non-null object\n",
      "AvSigVersion                                         100000 non-null object\n",
      "IsBeta                                               100000 non-null int64\n",
      "RtpStateBitfield                                     99639 non-null float64\n",
      "IsSxsPassiveMode                                     100000 non-null int64\n",
      "DefaultBrowsersIdentifier                            4890 non-null float64\n",
      "AVProductStatesIdentifier                            99607 non-null float64\n",
      "AVProductsInstalled                                  99607 non-null float64\n",
      "AVProductsEnabled                                    99607 non-null float64\n",
      "HasTpm                                               100000 non-null int64\n",
      "CountryIdentifier                                    100000 non-null int64\n",
      "CityIdentifier                                       96385 non-null float64\n",
      "OrganizationIdentifier                               69336 non-null float64\n",
      "GeoNameIdentifier                                    99999 non-null float64\n",
      "LocaleEnglishNameIdentifier                          100000 non-null int64\n",
      "Platform                                             100000 non-null object\n",
      "Processor                                            100000 non-null object\n",
      "OsVer                                                100000 non-null object\n",
      "OsBuild                                              100000 non-null int64\n",
      "OsSuite                                              100000 non-null int64\n",
      "OsPlatformSubRelease                                 100000 non-null object\n",
      "OsBuildLab                                           99999 non-null object\n",
      "SkuEdition                                           100000 non-null object\n",
      "IsProtected                                          99609 non-null float64\n",
      "AutoSampleOptIn                                      100000 non-null int64\n",
      "PuaMode                                              31 non-null object\n",
      "SMode                                                94068 non-null float64\n",
      "IeVerIdentifier                                      99335 non-null float64\n",
      "SmartScreen                                          64269 non-null object\n",
      "Firewall                                             98924 non-null float64\n",
      "UacLuaenable                                         99884 non-null float64\n",
      "Census_MDC2FormFactor                                100000 non-null object\n",
      "Census_DeviceFamily                                  100000 non-null object\n",
      "Census_OEMNameIdentifier                             98946 non-null float64\n",
      "Census_OEMModelIdentifier                            98853 non-null float64\n",
      "Census_ProcessorCoreCount                            99524 non-null float64\n",
      "Census_ProcessorManufacturerIdentifier               99524 non-null float64\n",
      "Census_ProcessorModelIdentifier                      99523 non-null float64\n",
      "Census_ProcessorClass                                427 non-null object\n",
      "Census_PrimaryDiskTotalCapacity                      99390 non-null float64\n",
      "Census_PrimaryDiskTypeName                           99839 non-null object\n",
      "Census_SystemVolumeTotalCapacity                     99390 non-null float64\n",
      "Census_HasOpticalDiskDrive                           100000 non-null int64\n",
      "Census_TotalPhysicalRAM                              99079 non-null float64\n",
      "Census_ChassisTypeName                               99994 non-null object\n",
      "Census_InternalPrimaryDiagonalDisplaySizeInInches    99470 non-null float64\n",
      "Census_InternalPrimaryDisplayResolutionHorizontal    99471 non-null float64\n",
      "Census_InternalPrimaryDisplayResolutionVertical      99471 non-null float64\n",
      "Census_PowerPlatformRoleName                         100000 non-null object\n",
      "Census_InternalBatteryType                           28760 non-null object\n",
      "Census_InternalBatteryNumberOfCharges                96951 non-null float64\n",
      "Census_OSVersion                                     100000 non-null object\n",
      "Census_OSArchitecture                                100000 non-null object\n",
      "Census_OSBranch                                      100000 non-null object\n",
      "Census_OSBuildNumber                                 100000 non-null int64\n",
      "Census_OSBuildRevision                               100000 non-null int64\n",
      "Census_OSEdition                                     100000 non-null object\n",
      "Census_OSSkuName                                     100000 non-null object\n",
      "Census_OSInstallTypeName                             100000 non-null object\n",
      "Census_OSInstallLanguageIdentifier                   99318 non-null float64\n",
      "Census_OSUILocaleIdentifier                          100000 non-null int64\n",
      "Census_OSWUAutoUpdateOptionsName                     100000 non-null object\n",
      "Census_IsPortableOperatingSystem                     100000 non-null int64\n",
      "Census_GenuineStateName                              100000 non-null object\n",
      "Census_ActivationChannel                             100000 non-null object\n",
      "Census_IsFlightingInternal                           16837 non-null float64\n",
      "Census_IsFlightsDisabled                             98187 non-null float64\n",
      "Census_FlightRing                                    100000 non-null object\n",
      "Census_ThresholdOptIn                                36262 non-null float64\n",
      "Census_FirmwareManufacturerIdentifier                97912 non-null float64\n",
      "Census_FirmwareVersionIdentifier                     98167 non-null float64\n",
      "Census_IsSecureBootEnabled                           100000 non-null int64\n",
      "Census_IsWIMBootEnabled                              36341 non-null float64\n",
      "Census_IsVirtualDevice                               99815 non-null float64\n",
      "Census_IsTouchEnabled                                100000 non-null int64\n",
      "Census_IsPenCapable                                  100000 non-null int64\n",
      "Census_IsAlwaysOnAlwaysConnectedCapable              99157 non-null float64\n",
      "Wdft_IsGamer                                         96585 non-null float64\n",
      "Wdft_RegionIdentifier                                96585 non-null float64\n",
      "HasDetections                                        100000 non-null int64\n",
      "dtypes: float64(36), int64(17), object(29)\n",
      "memory usage: 63.3+ MB\n"
     ]
    }
   ],
   "source": [
    "df.info()"
   ]
  },
  {
   "cell_type": "code",
   "execution_count": 6,
   "metadata": {},
   "outputs": [
    {
     "data": {
      "text/html": [
       "<div>\n",
       "<style>\n",
       "    .dataframe thead tr:only-child th {\n",
       "        text-align: right;\n",
       "    }\n",
       "\n",
       "    .dataframe thead th {\n",
       "        text-align: left;\n",
       "    }\n",
       "\n",
       "    .dataframe tbody tr th {\n",
       "        vertical-align: top;\n",
       "    }\n",
       "</style>\n",
       "<table border=\"1\" class=\"dataframe\">\n",
       "  <thead>\n",
       "    <tr style=\"text-align: right;\">\n",
       "      <th></th>\n",
       "      <th>ProductName</th>\n",
       "      <th>EngineVersion</th>\n",
       "      <th>AppVersion</th>\n",
       "      <th>AvSigVersion</th>\n",
       "      <th>IsBeta</th>\n",
       "      <th>RtpStateBitfield</th>\n",
       "      <th>IsSxsPassiveMode</th>\n",
       "      <th>DefaultBrowsersIdentifier</th>\n",
       "      <th>AVProductStatesIdentifier</th>\n",
       "      <th>AVProductsInstalled</th>\n",
       "      <th>...</th>\n",
       "      <th>Census_FirmwareVersionIdentifier</th>\n",
       "      <th>Census_IsSecureBootEnabled</th>\n",
       "      <th>Census_IsWIMBootEnabled</th>\n",
       "      <th>Census_IsVirtualDevice</th>\n",
       "      <th>Census_IsTouchEnabled</th>\n",
       "      <th>Census_IsPenCapable</th>\n",
       "      <th>Census_IsAlwaysOnAlwaysConnectedCapable</th>\n",
       "      <th>Wdft_IsGamer</th>\n",
       "      <th>Wdft_RegionIdentifier</th>\n",
       "      <th>HasDetections</th>\n",
       "    </tr>\n",
       "    <tr>\n",
       "      <th>MachineIdentifier</th>\n",
       "      <th></th>\n",
       "      <th></th>\n",
       "      <th></th>\n",
       "      <th></th>\n",
       "      <th></th>\n",
       "      <th></th>\n",
       "      <th></th>\n",
       "      <th></th>\n",
       "      <th></th>\n",
       "      <th></th>\n",
       "      <th></th>\n",
       "      <th></th>\n",
       "      <th></th>\n",
       "      <th></th>\n",
       "      <th></th>\n",
       "      <th></th>\n",
       "      <th></th>\n",
       "      <th></th>\n",
       "      <th></th>\n",
       "      <th></th>\n",
       "      <th></th>\n",
       "    </tr>\n",
       "  </thead>\n",
       "  <tbody>\n",
       "    <tr>\n",
       "      <th>0000028988387b115f69f31a3bf04f09</th>\n",
       "      <td>win8defender</td>\n",
       "      <td>1.1.15100.1</td>\n",
       "      <td>4.18.1807.18075</td>\n",
       "      <td>1.273.1735.0</td>\n",
       "      <td>0</td>\n",
       "      <td>7.0</td>\n",
       "      <td>0</td>\n",
       "      <td>NaN</td>\n",
       "      <td>53447.0</td>\n",
       "      <td>1.0</td>\n",
       "      <td>...</td>\n",
       "      <td>36144.0</td>\n",
       "      <td>0</td>\n",
       "      <td>NaN</td>\n",
       "      <td>0.0</td>\n",
       "      <td>0</td>\n",
       "      <td>0</td>\n",
       "      <td>0.0</td>\n",
       "      <td>0.0</td>\n",
       "      <td>10.0</td>\n",
       "      <td>0</td>\n",
       "    </tr>\n",
       "    <tr>\n",
       "      <th>000007535c3f730efa9ea0b7ef1bd645</th>\n",
       "      <td>win8defender</td>\n",
       "      <td>1.1.14600.4</td>\n",
       "      <td>4.13.17134.1</td>\n",
       "      <td>1.263.48.0</td>\n",
       "      <td>0</td>\n",
       "      <td>7.0</td>\n",
       "      <td>0</td>\n",
       "      <td>NaN</td>\n",
       "      <td>53447.0</td>\n",
       "      <td>1.0</td>\n",
       "      <td>...</td>\n",
       "      <td>57858.0</td>\n",
       "      <td>0</td>\n",
       "      <td>NaN</td>\n",
       "      <td>0.0</td>\n",
       "      <td>0</td>\n",
       "      <td>0</td>\n",
       "      <td>0.0</td>\n",
       "      <td>0.0</td>\n",
       "      <td>8.0</td>\n",
       "      <td>0</td>\n",
       "    </tr>\n",
       "    <tr>\n",
       "      <th>000007905a28d863f6d0d597892cd692</th>\n",
       "      <td>win8defender</td>\n",
       "      <td>1.1.15100.1</td>\n",
       "      <td>4.18.1807.18075</td>\n",
       "      <td>1.273.1341.0</td>\n",
       "      <td>0</td>\n",
       "      <td>7.0</td>\n",
       "      <td>0</td>\n",
       "      <td>NaN</td>\n",
       "      <td>53447.0</td>\n",
       "      <td>1.0</td>\n",
       "      <td>...</td>\n",
       "      <td>52682.0</td>\n",
       "      <td>0</td>\n",
       "      <td>NaN</td>\n",
       "      <td>0.0</td>\n",
       "      <td>0</td>\n",
       "      <td>0</td>\n",
       "      <td>0.0</td>\n",
       "      <td>0.0</td>\n",
       "      <td>3.0</td>\n",
       "      <td>0</td>\n",
       "    </tr>\n",
       "    <tr>\n",
       "      <th>00000b11598a75ea8ba1beea8459149f</th>\n",
       "      <td>win8defender</td>\n",
       "      <td>1.1.15100.1</td>\n",
       "      <td>4.18.1807.18075</td>\n",
       "      <td>1.273.1527.0</td>\n",
       "      <td>0</td>\n",
       "      <td>7.0</td>\n",
       "      <td>0</td>\n",
       "      <td>NaN</td>\n",
       "      <td>53447.0</td>\n",
       "      <td>1.0</td>\n",
       "      <td>...</td>\n",
       "      <td>20050.0</td>\n",
       "      <td>0</td>\n",
       "      <td>NaN</td>\n",
       "      <td>0.0</td>\n",
       "      <td>0</td>\n",
       "      <td>0</td>\n",
       "      <td>0.0</td>\n",
       "      <td>0.0</td>\n",
       "      <td>3.0</td>\n",
       "      <td>1</td>\n",
       "    </tr>\n",
       "    <tr>\n",
       "      <th>000014a5f00daa18e76b81417eeb99fc</th>\n",
       "      <td>win8defender</td>\n",
       "      <td>1.1.15100.1</td>\n",
       "      <td>4.18.1807.18075</td>\n",
       "      <td>1.273.1379.0</td>\n",
       "      <td>0</td>\n",
       "      <td>7.0</td>\n",
       "      <td>0</td>\n",
       "      <td>NaN</td>\n",
       "      <td>53447.0</td>\n",
       "      <td>1.0</td>\n",
       "      <td>...</td>\n",
       "      <td>19844.0</td>\n",
       "      <td>0</td>\n",
       "      <td>0.0</td>\n",
       "      <td>0.0</td>\n",
       "      <td>0</td>\n",
       "      <td>0</td>\n",
       "      <td>0.0</td>\n",
       "      <td>0.0</td>\n",
       "      <td>1.0</td>\n",
       "      <td>1</td>\n",
       "    </tr>\n",
       "  </tbody>\n",
       "</table>\n",
       "<p>5 rows × 82 columns</p>\n",
       "</div>"
      ],
      "text/plain": [
       "                                   ProductName EngineVersion       AppVersion  \\\n",
       "MachineIdentifier                                                               \n",
       "0000028988387b115f69f31a3bf04f09  win8defender   1.1.15100.1  4.18.1807.18075   \n",
       "000007535c3f730efa9ea0b7ef1bd645  win8defender   1.1.14600.4     4.13.17134.1   \n",
       "000007905a28d863f6d0d597892cd692  win8defender   1.1.15100.1  4.18.1807.18075   \n",
       "00000b11598a75ea8ba1beea8459149f  win8defender   1.1.15100.1  4.18.1807.18075   \n",
       "000014a5f00daa18e76b81417eeb99fc  win8defender   1.1.15100.1  4.18.1807.18075   \n",
       "\n",
       "                                  AvSigVersion  IsBeta  RtpStateBitfield  \\\n",
       "MachineIdentifier                                                          \n",
       "0000028988387b115f69f31a3bf04f09  1.273.1735.0       0               7.0   \n",
       "000007535c3f730efa9ea0b7ef1bd645    1.263.48.0       0               7.0   \n",
       "000007905a28d863f6d0d597892cd692  1.273.1341.0       0               7.0   \n",
       "00000b11598a75ea8ba1beea8459149f  1.273.1527.0       0               7.0   \n",
       "000014a5f00daa18e76b81417eeb99fc  1.273.1379.0       0               7.0   \n",
       "\n",
       "                                  IsSxsPassiveMode  DefaultBrowsersIdentifier  \\\n",
       "MachineIdentifier                                                               \n",
       "0000028988387b115f69f31a3bf04f09                 0                        NaN   \n",
       "000007535c3f730efa9ea0b7ef1bd645                 0                        NaN   \n",
       "000007905a28d863f6d0d597892cd692                 0                        NaN   \n",
       "00000b11598a75ea8ba1beea8459149f                 0                        NaN   \n",
       "000014a5f00daa18e76b81417eeb99fc                 0                        NaN   \n",
       "\n",
       "                                  AVProductStatesIdentifier  \\\n",
       "MachineIdentifier                                             \n",
       "0000028988387b115f69f31a3bf04f09                    53447.0   \n",
       "000007535c3f730efa9ea0b7ef1bd645                    53447.0   \n",
       "000007905a28d863f6d0d597892cd692                    53447.0   \n",
       "00000b11598a75ea8ba1beea8459149f                    53447.0   \n",
       "000014a5f00daa18e76b81417eeb99fc                    53447.0   \n",
       "\n",
       "                                  AVProductsInstalled      ...       \\\n",
       "MachineIdentifier                                          ...        \n",
       "0000028988387b115f69f31a3bf04f09                  1.0      ...        \n",
       "000007535c3f730efa9ea0b7ef1bd645                  1.0      ...        \n",
       "000007905a28d863f6d0d597892cd692                  1.0      ...        \n",
       "00000b11598a75ea8ba1beea8459149f                  1.0      ...        \n",
       "000014a5f00daa18e76b81417eeb99fc                  1.0      ...        \n",
       "\n",
       "                                  Census_FirmwareVersionIdentifier  \\\n",
       "MachineIdentifier                                                    \n",
       "0000028988387b115f69f31a3bf04f09                           36144.0   \n",
       "000007535c3f730efa9ea0b7ef1bd645                           57858.0   \n",
       "000007905a28d863f6d0d597892cd692                           52682.0   \n",
       "00000b11598a75ea8ba1beea8459149f                           20050.0   \n",
       "000014a5f00daa18e76b81417eeb99fc                           19844.0   \n",
       "\n",
       "                                  Census_IsSecureBootEnabled  \\\n",
       "MachineIdentifier                                              \n",
       "0000028988387b115f69f31a3bf04f09                           0   \n",
       "000007535c3f730efa9ea0b7ef1bd645                           0   \n",
       "000007905a28d863f6d0d597892cd692                           0   \n",
       "00000b11598a75ea8ba1beea8459149f                           0   \n",
       "000014a5f00daa18e76b81417eeb99fc                           0   \n",
       "\n",
       "                                  Census_IsWIMBootEnabled  \\\n",
       "MachineIdentifier                                           \n",
       "0000028988387b115f69f31a3bf04f09                      NaN   \n",
       "000007535c3f730efa9ea0b7ef1bd645                      NaN   \n",
       "000007905a28d863f6d0d597892cd692                      NaN   \n",
       "00000b11598a75ea8ba1beea8459149f                      NaN   \n",
       "000014a5f00daa18e76b81417eeb99fc                      0.0   \n",
       "\n",
       "                                  Census_IsVirtualDevice  \\\n",
       "MachineIdentifier                                          \n",
       "0000028988387b115f69f31a3bf04f09                     0.0   \n",
       "000007535c3f730efa9ea0b7ef1bd645                     0.0   \n",
       "000007905a28d863f6d0d597892cd692                     0.0   \n",
       "00000b11598a75ea8ba1beea8459149f                     0.0   \n",
       "000014a5f00daa18e76b81417eeb99fc                     0.0   \n",
       "\n",
       "                                  Census_IsTouchEnabled  Census_IsPenCapable  \\\n",
       "MachineIdentifier                                                              \n",
       "0000028988387b115f69f31a3bf04f09                      0                    0   \n",
       "000007535c3f730efa9ea0b7ef1bd645                      0                    0   \n",
       "000007905a28d863f6d0d597892cd692                      0                    0   \n",
       "00000b11598a75ea8ba1beea8459149f                      0                    0   \n",
       "000014a5f00daa18e76b81417eeb99fc                      0                    0   \n",
       "\n",
       "                                  Census_IsAlwaysOnAlwaysConnectedCapable  \\\n",
       "MachineIdentifier                                                           \n",
       "0000028988387b115f69f31a3bf04f09                                      0.0   \n",
       "000007535c3f730efa9ea0b7ef1bd645                                      0.0   \n",
       "000007905a28d863f6d0d597892cd692                                      0.0   \n",
       "00000b11598a75ea8ba1beea8459149f                                      0.0   \n",
       "000014a5f00daa18e76b81417eeb99fc                                      0.0   \n",
       "\n",
       "                                 Wdft_IsGamer Wdft_RegionIdentifier  \\\n",
       "MachineIdentifier                                                     \n",
       "0000028988387b115f69f31a3bf04f09          0.0                  10.0   \n",
       "000007535c3f730efa9ea0b7ef1bd645          0.0                   8.0   \n",
       "000007905a28d863f6d0d597892cd692          0.0                   3.0   \n",
       "00000b11598a75ea8ba1beea8459149f          0.0                   3.0   \n",
       "000014a5f00daa18e76b81417eeb99fc          0.0                   1.0   \n",
       "\n",
       "                                 HasDetections  \n",
       "MachineIdentifier                               \n",
       "0000028988387b115f69f31a3bf04f09             0  \n",
       "000007535c3f730efa9ea0b7ef1bd645             0  \n",
       "000007905a28d863f6d0d597892cd692             0  \n",
       "00000b11598a75ea8ba1beea8459149f             1  \n",
       "000014a5f00daa18e76b81417eeb99fc             1  \n",
       "\n",
       "[5 rows x 82 columns]"
      ]
     },
     "execution_count": 6,
     "metadata": {},
     "output_type": "execute_result"
    }
   ],
   "source": [
    "df.head()"
   ]
  },
  {
   "cell_type": "code",
   "execution_count": 7,
   "metadata": {},
   "outputs": [
    {
     "data": {
      "text/html": [
       "<div>\n",
       "<style>\n",
       "    .dataframe thead tr:only-child th {\n",
       "        text-align: right;\n",
       "    }\n",
       "\n",
       "    .dataframe thead th {\n",
       "        text-align: left;\n",
       "    }\n",
       "\n",
       "    .dataframe tbody tr th {\n",
       "        vertical-align: top;\n",
       "    }\n",
       "</style>\n",
       "<table border=\"1\" class=\"dataframe\">\n",
       "  <thead>\n",
       "    <tr style=\"text-align: right;\">\n",
       "      <th></th>\n",
       "      <th>IsBeta</th>\n",
       "      <th>RtpStateBitfield</th>\n",
       "      <th>IsSxsPassiveMode</th>\n",
       "      <th>DefaultBrowsersIdentifier</th>\n",
       "      <th>AVProductStatesIdentifier</th>\n",
       "      <th>AVProductsInstalled</th>\n",
       "      <th>AVProductsEnabled</th>\n",
       "      <th>HasTpm</th>\n",
       "      <th>CountryIdentifier</th>\n",
       "      <th>CityIdentifier</th>\n",
       "      <th>...</th>\n",
       "      <th>Census_FirmwareVersionIdentifier</th>\n",
       "      <th>Census_IsSecureBootEnabled</th>\n",
       "      <th>Census_IsWIMBootEnabled</th>\n",
       "      <th>Census_IsVirtualDevice</th>\n",
       "      <th>Census_IsTouchEnabled</th>\n",
       "      <th>Census_IsPenCapable</th>\n",
       "      <th>Census_IsAlwaysOnAlwaysConnectedCapable</th>\n",
       "      <th>Wdft_IsGamer</th>\n",
       "      <th>Wdft_RegionIdentifier</th>\n",
       "      <th>HasDetections</th>\n",
       "    </tr>\n",
       "  </thead>\n",
       "  <tbody>\n",
       "    <tr>\n",
       "      <th>count</th>\n",
       "      <td>100000.0</td>\n",
       "      <td>99639.000000</td>\n",
       "      <td>100000.000000</td>\n",
       "      <td>4890.000000</td>\n",
       "      <td>99607.000000</td>\n",
       "      <td>99607.000000</td>\n",
       "      <td>99607.000000</td>\n",
       "      <td>100000.000000</td>\n",
       "      <td>100000.000000</td>\n",
       "      <td>96385.000000</td>\n",
       "      <td>...</td>\n",
       "      <td>98167.000000</td>\n",
       "      <td>100000.000000</td>\n",
       "      <td>36341.0</td>\n",
       "      <td>99815.000000</td>\n",
       "      <td>100000.000000</td>\n",
       "      <td>100000.00000</td>\n",
       "      <td>99157.000000</td>\n",
       "      <td>96585.000000</td>\n",
       "      <td>96585.000000</td>\n",
       "      <td>100000.000000</td>\n",
       "    </tr>\n",
       "    <tr>\n",
       "      <th>mean</th>\n",
       "      <td>0.0</td>\n",
       "      <td>6.845643</td>\n",
       "      <td>0.017630</td>\n",
       "      <td>1637.011247</td>\n",
       "      <td>47876.296023</td>\n",
       "      <td>1.322809</td>\n",
       "      <td>1.019989</td>\n",
       "      <td>0.987270</td>\n",
       "      <td>108.188050</td>\n",
       "      <td>81072.575307</td>\n",
       "      <td>...</td>\n",
       "      <td>33056.529618</td>\n",
       "      <td>0.484990</td>\n",
       "      <td>0.0</td>\n",
       "      <td>0.006642</td>\n",
       "      <td>0.125420</td>\n",
       "      <td>0.03715</td>\n",
       "      <td>0.057515</td>\n",
       "      <td>0.281607</td>\n",
       "      <td>7.850960</td>\n",
       "      <td>0.499280</td>\n",
       "    </tr>\n",
       "    <tr>\n",
       "      <th>std</th>\n",
       "      <td>0.0</td>\n",
       "      <td>1.025645</td>\n",
       "      <td>0.131603</td>\n",
       "      <td>999.936760</td>\n",
       "      <td>14023.317478</td>\n",
       "      <td>0.519449</td>\n",
       "      <td>0.162839</td>\n",
       "      <td>0.112107</td>\n",
       "      <td>62.989406</td>\n",
       "      <td>48941.678952</td>\n",
       "      <td>...</td>\n",
       "      <td>21224.208041</td>\n",
       "      <td>0.499777</td>\n",
       "      <td>0.0</td>\n",
       "      <td>0.081230</td>\n",
       "      <td>0.331196</td>\n",
       "      <td>0.18913</td>\n",
       "      <td>0.232825</td>\n",
       "      <td>0.449785</td>\n",
       "      <td>4.565716</td>\n",
       "      <td>0.500002</td>\n",
       "    </tr>\n",
       "    <tr>\n",
       "      <th>min</th>\n",
       "      <td>0.0</td>\n",
       "      <td>0.000000</td>\n",
       "      <td>0.000000</td>\n",
       "      <td>1.000000</td>\n",
       "      <td>39.000000</td>\n",
       "      <td>1.000000</td>\n",
       "      <td>0.000000</td>\n",
       "      <td>0.000000</td>\n",
       "      <td>1.000000</td>\n",
       "      <td>7.000000</td>\n",
       "      <td>...</td>\n",
       "      <td>5.000000</td>\n",
       "      <td>0.000000</td>\n",
       "      <td>0.0</td>\n",
       "      <td>0.000000</td>\n",
       "      <td>0.000000</td>\n",
       "      <td>0.00000</td>\n",
       "      <td>0.000000</td>\n",
       "      <td>0.000000</td>\n",
       "      <td>1.000000</td>\n",
       "      <td>0.000000</td>\n",
       "    </tr>\n",
       "    <tr>\n",
       "      <th>25%</th>\n",
       "      <td>0.0</td>\n",
       "      <td>7.000000</td>\n",
       "      <td>0.000000</td>\n",
       "      <td>788.000000</td>\n",
       "      <td>49480.000000</td>\n",
       "      <td>1.000000</td>\n",
       "      <td>1.000000</td>\n",
       "      <td>1.000000</td>\n",
       "      <td>51.000000</td>\n",
       "      <td>36303.000000</td>\n",
       "      <td>...</td>\n",
       "      <td>13154.000000</td>\n",
       "      <td>0.000000</td>\n",
       "      <td>0.0</td>\n",
       "      <td>0.000000</td>\n",
       "      <td>0.000000</td>\n",
       "      <td>0.00000</td>\n",
       "      <td>0.000000</td>\n",
       "      <td>0.000000</td>\n",
       "      <td>3.000000</td>\n",
       "      <td>0.000000</td>\n",
       "    </tr>\n",
       "    <tr>\n",
       "      <th>50%</th>\n",
       "      <td>0.0</td>\n",
       "      <td>7.000000</td>\n",
       "      <td>0.000000</td>\n",
       "      <td>1632.000000</td>\n",
       "      <td>53447.000000</td>\n",
       "      <td>1.000000</td>\n",
       "      <td>1.000000</td>\n",
       "      <td>1.000000</td>\n",
       "      <td>97.000000</td>\n",
       "      <td>82373.000000</td>\n",
       "      <td>...</td>\n",
       "      <td>33070.000000</td>\n",
       "      <td>0.000000</td>\n",
       "      <td>0.0</td>\n",
       "      <td>0.000000</td>\n",
       "      <td>0.000000</td>\n",
       "      <td>0.00000</td>\n",
       "      <td>0.000000</td>\n",
       "      <td>0.000000</td>\n",
       "      <td>10.000000</td>\n",
       "      <td>0.000000</td>\n",
       "    </tr>\n",
       "    <tr>\n",
       "      <th>75%</th>\n",
       "      <td>0.0</td>\n",
       "      <td>7.000000</td>\n",
       "      <td>0.000000</td>\n",
       "      <td>2290.000000</td>\n",
       "      <td>53447.000000</td>\n",
       "      <td>2.000000</td>\n",
       "      <td>1.000000</td>\n",
       "      <td>1.000000</td>\n",
       "      <td>162.000000</td>\n",
       "      <td>123627.000000</td>\n",
       "      <td>...</td>\n",
       "      <td>52458.000000</td>\n",
       "      <td>1.000000</td>\n",
       "      <td>0.0</td>\n",
       "      <td>0.000000</td>\n",
       "      <td>0.000000</td>\n",
       "      <td>0.00000</td>\n",
       "      <td>0.000000</td>\n",
       "      <td>1.000000</td>\n",
       "      <td>11.000000</td>\n",
       "      <td>1.000000</td>\n",
       "    </tr>\n",
       "    <tr>\n",
       "      <th>max</th>\n",
       "      <td>0.0</td>\n",
       "      <td>8.000000</td>\n",
       "      <td>1.000000</td>\n",
       "      <td>3195.000000</td>\n",
       "      <td>70486.000000</td>\n",
       "      <td>5.000000</td>\n",
       "      <td>4.000000</td>\n",
       "      <td>1.000000</td>\n",
       "      <td>222.000000</td>\n",
       "      <td>167953.000000</td>\n",
       "      <td>...</td>\n",
       "      <td>72091.000000</td>\n",
       "      <td>1.000000</td>\n",
       "      <td>0.0</td>\n",
       "      <td>1.000000</td>\n",
       "      <td>1.000000</td>\n",
       "      <td>1.00000</td>\n",
       "      <td>1.000000</td>\n",
       "      <td>1.000000</td>\n",
       "      <td>15.000000</td>\n",
       "      <td>1.000000</td>\n",
       "    </tr>\n",
       "  </tbody>\n",
       "</table>\n",
       "<p>8 rows × 53 columns</p>\n",
       "</div>"
      ],
      "text/plain": [
       "         IsBeta  RtpStateBitfield  IsSxsPassiveMode  \\\n",
       "count  100000.0      99639.000000     100000.000000   \n",
       "mean        0.0          6.845643          0.017630   \n",
       "std         0.0          1.025645          0.131603   \n",
       "min         0.0          0.000000          0.000000   \n",
       "25%         0.0          7.000000          0.000000   \n",
       "50%         0.0          7.000000          0.000000   \n",
       "75%         0.0          7.000000          0.000000   \n",
       "max         0.0          8.000000          1.000000   \n",
       "\n",
       "       DefaultBrowsersIdentifier  AVProductStatesIdentifier  \\\n",
       "count                4890.000000               99607.000000   \n",
       "mean                 1637.011247               47876.296023   \n",
       "std                   999.936760               14023.317478   \n",
       "min                     1.000000                  39.000000   \n",
       "25%                   788.000000               49480.000000   \n",
       "50%                  1632.000000               53447.000000   \n",
       "75%                  2290.000000               53447.000000   \n",
       "max                  3195.000000               70486.000000   \n",
       "\n",
       "       AVProductsInstalled  AVProductsEnabled         HasTpm  \\\n",
       "count         99607.000000       99607.000000  100000.000000   \n",
       "mean              1.322809           1.019989       0.987270   \n",
       "std               0.519449           0.162839       0.112107   \n",
       "min               1.000000           0.000000       0.000000   \n",
       "25%               1.000000           1.000000       1.000000   \n",
       "50%               1.000000           1.000000       1.000000   \n",
       "75%               2.000000           1.000000       1.000000   \n",
       "max               5.000000           4.000000       1.000000   \n",
       "\n",
       "       CountryIdentifier  CityIdentifier      ...        \\\n",
       "count      100000.000000    96385.000000      ...         \n",
       "mean          108.188050    81072.575307      ...         \n",
       "std            62.989406    48941.678952      ...         \n",
       "min             1.000000        7.000000      ...         \n",
       "25%            51.000000    36303.000000      ...         \n",
       "50%            97.000000    82373.000000      ...         \n",
       "75%           162.000000   123627.000000      ...         \n",
       "max           222.000000   167953.000000      ...         \n",
       "\n",
       "       Census_FirmwareVersionIdentifier  Census_IsSecureBootEnabled  \\\n",
       "count                      98167.000000               100000.000000   \n",
       "mean                       33056.529618                    0.484990   \n",
       "std                        21224.208041                    0.499777   \n",
       "min                            5.000000                    0.000000   \n",
       "25%                        13154.000000                    0.000000   \n",
       "50%                        33070.000000                    0.000000   \n",
       "75%                        52458.000000                    1.000000   \n",
       "max                        72091.000000                    1.000000   \n",
       "\n",
       "       Census_IsWIMBootEnabled  Census_IsVirtualDevice  Census_IsTouchEnabled  \\\n",
       "count                  36341.0            99815.000000          100000.000000   \n",
       "mean                       0.0                0.006642               0.125420   \n",
       "std                        0.0                0.081230               0.331196   \n",
       "min                        0.0                0.000000               0.000000   \n",
       "25%                        0.0                0.000000               0.000000   \n",
       "50%                        0.0                0.000000               0.000000   \n",
       "75%                        0.0                0.000000               0.000000   \n",
       "max                        0.0                1.000000               1.000000   \n",
       "\n",
       "       Census_IsPenCapable  Census_IsAlwaysOnAlwaysConnectedCapable  \\\n",
       "count         100000.00000                             99157.000000   \n",
       "mean               0.03715                                 0.057515   \n",
       "std                0.18913                                 0.232825   \n",
       "min                0.00000                                 0.000000   \n",
       "25%                0.00000                                 0.000000   \n",
       "50%                0.00000                                 0.000000   \n",
       "75%                0.00000                                 0.000000   \n",
       "max                1.00000                                 1.000000   \n",
       "\n",
       "       Wdft_IsGamer  Wdft_RegionIdentifier  HasDetections  \n",
       "count  96585.000000           96585.000000  100000.000000  \n",
       "mean       0.281607               7.850960       0.499280  \n",
       "std        0.449785               4.565716       0.500002  \n",
       "min        0.000000               1.000000       0.000000  \n",
       "25%        0.000000               3.000000       0.000000  \n",
       "50%        0.000000              10.000000       0.000000  \n",
       "75%        1.000000              11.000000       1.000000  \n",
       "max        1.000000              15.000000       1.000000  \n",
       "\n",
       "[8 rows x 53 columns]"
      ]
     },
     "execution_count": 7,
     "metadata": {},
     "output_type": "execute_result"
    }
   ],
   "source": [
    "df.describe()"
   ]
  },
  {
   "cell_type": "markdown",
   "metadata": {},
   "source": [
    "## Data Cleaning"
   ]
  },
  {
   "cell_type": "code",
   "execution_count": 8,
   "metadata": {
    "collapsed": true
   },
   "outputs": [],
   "source": [
    "# Let's remove each column with more than a 40% of nulls\n",
    "th_perc = 0.3\n",
    "clean_threshold = total_data*th_perc"
   ]
  },
  {
   "cell_type": "code",
   "execution_count": 9,
   "metadata": {
    "collapsed": true
   },
   "outputs": [],
   "source": [
    "df_for_clean = df.isnull()"
   ]
  },
  {
   "cell_type": "code",
   "execution_count": 10,
   "metadata": {},
   "outputs": [
    {
     "name": "stdout",
     "output_type": "stream",
     "text": [
      "ProductName: 0\n",
      "EngineVersion: 0\n",
      "AppVersion: 0\n",
      "AvSigVersion: 0\n",
      "IsBeta: 0\n",
      "RtpStateBitfield: 361\n",
      "IsSxsPassiveMode: 0\n",
      "DefaultBrowsersIdentifier: 95110, REMOVE!!!\n",
      "AVProductStatesIdentifier: 393\n",
      "AVProductsInstalled: 393\n",
      "AVProductsEnabled: 393\n",
      "HasTpm: 0\n",
      "CountryIdentifier: 0\n",
      "CityIdentifier: 3615\n",
      "OrganizationIdentifier: 30664, REMOVE!!!\n",
      "GeoNameIdentifier: 1\n",
      "LocaleEnglishNameIdentifier: 0\n",
      "Platform: 0\n",
      "Processor: 0\n",
      "OsVer: 0\n",
      "OsBuild: 0\n",
      "OsSuite: 0\n",
      "OsPlatformSubRelease: 0\n",
      "OsBuildLab: 1\n",
      "SkuEdition: 0\n",
      "IsProtected: 391\n",
      "AutoSampleOptIn: 0\n",
      "PuaMode: 99969, REMOVE!!!\n",
      "SMode: 5932\n",
      "IeVerIdentifier: 665\n",
      "SmartScreen: 35731, REMOVE!!!\n",
      "Firewall: 1076\n",
      "UacLuaenable: 116\n",
      "Census_MDC2FormFactor: 0\n",
      "Census_DeviceFamily: 0\n",
      "Census_OEMNameIdentifier: 1054\n",
      "Census_OEMModelIdentifier: 1147\n",
      "Census_ProcessorCoreCount: 476\n",
      "Census_ProcessorManufacturerIdentifier: 476\n",
      "Census_ProcessorModelIdentifier: 477\n",
      "Census_ProcessorClass: 99573, REMOVE!!!\n",
      "Census_PrimaryDiskTotalCapacity: 610\n",
      "Census_PrimaryDiskTypeName: 161\n",
      "Census_SystemVolumeTotalCapacity: 610\n",
      "Census_HasOpticalDiskDrive: 0\n",
      "Census_TotalPhysicalRAM: 921\n",
      "Census_ChassisTypeName: 6\n",
      "Census_InternalPrimaryDiagonalDisplaySizeInInches: 530\n",
      "Census_InternalPrimaryDisplayResolutionHorizontal: 529\n",
      "Census_InternalPrimaryDisplayResolutionVertical: 529\n",
      "Census_PowerPlatformRoleName: 0\n",
      "Census_InternalBatteryType: 71240, REMOVE!!!\n",
      "Census_InternalBatteryNumberOfCharges: 3049\n",
      "Census_OSVersion: 0\n",
      "Census_OSArchitecture: 0\n",
      "Census_OSBranch: 0\n",
      "Census_OSBuildNumber: 0\n",
      "Census_OSBuildRevision: 0\n",
      "Census_OSEdition: 0\n",
      "Census_OSSkuName: 0\n",
      "Census_OSInstallTypeName: 0\n",
      "Census_OSInstallLanguageIdentifier: 682\n",
      "Census_OSUILocaleIdentifier: 0\n",
      "Census_OSWUAutoUpdateOptionsName: 0\n",
      "Census_IsPortableOperatingSystem: 0\n",
      "Census_GenuineStateName: 0\n",
      "Census_ActivationChannel: 0\n",
      "Census_IsFlightingInternal: 83163, REMOVE!!!\n",
      "Census_IsFlightsDisabled: 1813\n",
      "Census_FlightRing: 0\n",
      "Census_ThresholdOptIn: 63738, REMOVE!!!\n",
      "Census_FirmwareManufacturerIdentifier: 2088\n",
      "Census_FirmwareVersionIdentifier: 1833\n",
      "Census_IsSecureBootEnabled: 0\n",
      "Census_IsWIMBootEnabled: 63659, REMOVE!!!\n",
      "Census_IsVirtualDevice: 185\n",
      "Census_IsTouchEnabled: 0\n",
      "Census_IsPenCapable: 0\n",
      "Census_IsAlwaysOnAlwaysConnectedCapable: 843\n",
      "Wdft_IsGamer: 3415\n",
      "Wdft_RegionIdentifier: 3415\n",
      "HasDetections: 0\n"
     ]
    }
   ],
   "source": [
    "columns_to_delete=[]\n",
    "for c in df_for_clean.columns:\n",
    "    nulls = df_for_clean[c].sum()\n",
    "    if (nulls > clean_threshold):\n",
    "        columns_to_delete.append(c)\n",
    "        add=', REMOVE!!!'\n",
    "    else:\n",
    "        add=''\n",
    "    print(c + ': ' + str(nulls) + add)"
   ]
  },
  {
   "cell_type": "code",
   "execution_count": 11,
   "metadata": {},
   "outputs": [
    {
     "name": "stdout",
     "output_type": "stream",
     "text": [
      "pre  filter N/A dimension(100000, 82)\n",
      "post 1 filter N/A dimension(100000, 73)\n",
      "post 2 filter N/A dimension(80604, 73)\n"
     ]
    }
   ],
   "source": [
    "print('pre  filter N/A dimension' + str(df.shape))\n",
    "df.drop(labels=columns_to_delete,axis=1,inplace=True)\n",
    "print('post 1 filter N/A dimension' + str(df.shape))\n",
    "df.dropna(inplace=True)\n",
    "print('post 2 filter N/A dimension' + str(df.shape))"
   ]
  },
  {
   "cell_type": "markdown",
   "metadata": {},
   "source": [
    "## Splitting label information"
   ]
  },
  {
   "cell_type": "code",
   "execution_count": 12,
   "metadata": {
    "collapsed": true
   },
   "outputs": [],
   "source": [
    "df_y = df['HasDetections']\n",
    "df.drop(labels=['HasDetections'], axis=1, inplace=True)"
   ]
  },
  {
   "cell_type": "markdown",
   "metadata": {},
   "source": [
    "## Categorical to Numerical "
   ]
  },
  {
   "cell_type": "markdown",
   "metadata": {},
   "source": [
    "We have 83 columns, 53 numbers and 30 categorical. Let's see the diversity of each of them: "
   ]
  },
  {
   "cell_type": "code",
   "execution_count": 13,
   "metadata": {
    "collapsed": true
   },
   "outputs": [],
   "source": [
    "columns_categorical = df.select_dtypes(include=['object']).columns"
   ]
  },
  {
   "cell_type": "code",
   "execution_count": 14,
   "metadata": {},
   "outputs": [
    {
     "name": "stdout",
     "output_type": "stream",
     "text": [
      "ProductName: 2\n",
      "EngineVersion: 35\n",
      "AppVersion: 73\n",
      "AvSigVersion: 2323\n",
      "Platform: 3\n",
      "Processor: 3\n",
      "OsVer: 9\n",
      "OsPlatformSubRelease: 9\n",
      "OsBuildLab: 273\n",
      "SkuEdition: 7\n",
      "Census_MDC2FormFactor: 11\n",
      "Census_DeviceFamily: 1\n",
      "Census_PrimaryDiskTypeName: 4\n",
      "Census_ChassisTypeName: 27\n",
      "Census_PowerPlatformRoleName: 9\n",
      "Census_OSVersion: 235\n",
      "Census_OSArchitecture: 3\n",
      "Census_OSBranch: 13\n",
      "Census_OSEdition: 15\n",
      "Census_OSSkuName: 13\n",
      "Census_OSInstallTypeName: 9\n",
      "Census_OSWUAutoUpdateOptionsName: 5\n",
      "Census_GenuineStateName: 4\n",
      "Census_ActivationChannel: 5\n",
      "Census_FlightRing: 7\n",
      "Total new vars: 3098\n"
     ]
    }
   ],
   "source": [
    "total = 0\n",
    "for c in columns_categorical:\n",
    "    values = df[c].nunique()\n",
    "    total += values\n",
    "    print(str(c) + ': ' + str(values))\n",
    "print('Total new vars: ' + str(total))"
   ]
  },
  {
   "cell_type": "markdown",
   "metadata": {},
   "source": [
    "There are some of the categorical values that have a lot of values .... "
   ]
  },
  {
   "cell_type": "code",
   "execution_count": 15,
   "metadata": {
    "collapsed": true
   },
   "outputs": [],
   "source": [
    "df_num=pd.get_dummies(data=df,columns=columns_categorical)"
   ]
  },
  {
   "cell_type": "markdown",
   "metadata": {},
   "source": [
    "# Scaling data "
   ]
  },
  {
   "cell_type": "code",
   "execution_count": 16,
   "metadata": {
    "collapsed": true
   },
   "outputs": [],
   "source": [
    "from sklearn.preprocessing import MinMaxScaler"
   ]
  },
  {
   "cell_type": "code",
   "execution_count": 17,
   "metadata": {
    "collapsed": true
   },
   "outputs": [],
   "source": [
    "scaler = MinMaxScaler()"
   ]
  },
  {
   "cell_type": "code",
   "execution_count": 18,
   "metadata": {
    "collapsed": true
   },
   "outputs": [],
   "source": [
    "data_scaled = scaler.fit_transform(df_num.values)"
   ]
  },
  {
   "cell_type": "markdown",
   "metadata": {},
   "source": [
    "# Classification problem"
   ]
  },
  {
   "cell_type": "code",
   "execution_count": 19,
   "metadata": {
    "collapsed": true
   },
   "outputs": [],
   "source": [
    "import sys\n",
    "sys.path.append('../../GitRepos/dsbase/src/main/')\n",
    "\n",
    "from sklearn.model_selection import train_test_split\n",
    "from ModelDSBase import ModelDSBaseWrapper"
   ]
  },
  {
   "cell_type": "markdown",
   "metadata": {},
   "source": [
    "## Random Forest"
   ]
  },
  {
   "cell_type": "code",
   "execution_count": 20,
   "metadata": {
    "collapsed": true
   },
   "outputs": [],
   "source": [
    "from RandomForestClassificationDSBase import RandomForestClassificationDSBaseModel\n",
    "from RandomForestClassificationDSBase import RandomForestClassificationDSBaseModelParamsToMap"
   ]
  },
  {
   "cell_type": "code",
   "execution_count": 21,
   "metadata": {},
   "outputs": [
    {
     "name": "stdout",
     "output_type": "stream",
     "text": [
      "X size:(80604, 3145)\n",
      "y size:(80604,)\n",
      "initiating model RF0. RandomForestClassification\n",
      "initiating model RF1. RandomForestClassification\n",
      "initiating model RF2. RandomForestClassification\n"
     ]
    }
   ],
   "source": [
    "params = RandomForestClassificationDSBaseModelParamsToMap(100,15)\n",
    "rfc = ModelDSBaseWrapper('RF',data_scaled,df_y.values,[30,65,100],0.3,RandomForestClassificationDSBaseModel,params,splitter=train_test_split)"
   ]
  },
  {
   "cell_type": "code",
   "execution_count": 22,
   "metadata": {},
   "outputs": [
    {
     "name": "stdout",
     "output_type": "stream",
     "text": [
      "training model RF0. RandomForestClassification\n",
      "training model RF1. RandomForestClassification\n",
      "training model RF2. RandomForestClassification\n"
     ]
    }
   ],
   "source": [
    "rfc.train()"
   ]
  },
  {
   "cell_type": "code",
   "execution_count": 23,
   "metadata": {
    "collapsed": true
   },
   "outputs": [],
   "source": [
    "lcrfc = rfc.getLearningCurves()"
   ]
  },
  {
   "cell_type": "code",
   "execution_count": 24,
   "metadata": {},
   "outputs": [
    {
     "data": {
      "text/plain": [
       "[<matplotlib.lines.Line2D at 0x1a14e85b38>,\n",
       " <matplotlib.lines.Line2D at 0x1a14e85c88>]"
      ]
     },
     "execution_count": 24,
     "metadata": {},
     "output_type": "execute_result"
    },
    {
     "data": {
      "image/png": "[encoded data removed]",
      "text/plain": [
       "<matplotlib.figure.Figure at 0x1a14680978>"
      ]
     },
     "metadata": {},
     "output_type": "display_data"
    }
   ],
   "source": [
    "plt.plot(lcrfc[0,:],'b',lcrfc[1,:],'r')"
   ]
  },
  {
   "cell_type": "code",
   "execution_count": 25,
   "metadata": {},
   "outputs": [
    {
     "data": {
      "text/plain": [
       "0.61152923662228098"
      ]
     },
     "execution_count": 25,
     "metadata": {},
     "output_type": "execute_result"
    }
   ],
   "source": [
    "rfc.getScore()"
   ]
  },
  {
   "cell_type": "markdown",
   "metadata": {},
   "source": [
    "## Ada Boosting "
   ]
  },
  {
   "cell_type": "code",
   "execution_count": 26,
   "metadata": {
    "collapsed": true
   },
   "outputs": [],
   "source": [
    "from AdaBoostClassificationDSBase import AdaBoostClassificationDSBaseModelParamsToMap\n",
    "from AdaBoostClassificationDSBase import AdaBoostClassificationDSBaseModel"
   ]
  },
  {
   "cell_type": "code",
   "execution_count": 27,
   "metadata": {},
   "outputs": [
    {
     "name": "stdout",
     "output_type": "stream",
     "text": [
      "X size:(80604, 3145)\n",
      "y size:(80604,)\n",
      "initiating model AB0. AdaBoostClassification\n",
      "initiating model AB1. AdaBoostClassification\n",
      "initiating model AB2. AdaBoostClassification\n"
     ]
    }
   ],
   "source": [
    "params = AdaBoostClassificationDSBaseModelParamsToMap(100,1.0)\n",
    "abc = ModelDSBaseWrapper('AB',data_scaled,df_y.values,[30,65,100],0.3,AdaBoostClassificationDSBaseModel,params,splitter=train_test_split)"
   ]
  },
  {
   "cell_type": "code",
   "execution_count": 28,
   "metadata": {},
   "outputs": [
    {
     "name": "stdout",
     "output_type": "stream",
     "text": [
      "training model AB0. AdaBoostClassification\n",
      "training model AB1. AdaBoostClassification\n",
      "training model AB2. AdaBoostClassification\n"
     ]
    }
   ],
   "source": [
    "abc.train()"
   ]
  },
  {
   "cell_type": "code",
   "execution_count": 29,
   "metadata": {
    "collapsed": true
   },
   "outputs": [],
   "source": [
    "lcabc = abc.getLearningCurves()"
   ]
  },
  {
   "cell_type": "code",
   "execution_count": 30,
   "metadata": {},
   "outputs": [
    {
     "data": {
      "text/plain": [
       "[<matplotlib.lines.Line2D at 0x1a15398128>,\n",
       " <matplotlib.lines.Line2D at 0x1a15398278>]"
      ]
     },
     "execution_count": 30,
     "metadata": {},
     "output_type": "execute_result"
    },
    {
     "data": {
      "image/png": "[encoded data removed]",
      "text/plain": [
       "<matplotlib.figure.Figure at 0x1a153596d8>"
      ]
     },
     "metadata": {},
     "output_type": "display_data"
    }
   ],
   "source": [
    "plt.plot(lcabc[0,:],'b',lcabc[1,:],'r')"
   ]
  },
  {
   "cell_type": "code",
   "execution_count": 31,
   "metadata": {},
   "outputs": [
    {
     "data": {
      "text/plain": [
       "0.6080142254569515"
      ]
     },
     "execution_count": 31,
     "metadata": {},
     "output_type": "execute_result"
    }
   ],
   "source": [
    "abc.getScore()"
   ]
  },
  {
   "cell_type": "markdown",
   "metadata": {
    "collapsed": true
   },
   "source": [
    "# End of Analisys! "
   ]
  },
  {
   "cell_type": "markdown",
   "metadata": {},
   "source": [
    "Too large dataset required to find non-overfitted information"
   ]
  },
  {
   "cell_type": "code",
   "execution_count": null,
   "metadata": {
    "collapsed": true
   },
   "outputs": [],
   "source": []
  }
 ],
 "metadata": {
  "kernelspec": {
   "display_name": "Python 3",
   "language": "python",
   "name": "python3"
  },
  "language_info": {
   "codemirror_mode": {
    "name": "ipython",
    "version": 3
   },
   "file_extension": ".py",
   "mimetype": "text/x-python",
   "name": "python",
   "nbconvert_exporter": "python",
   "pygments_lexer": "ipython3",
   "version": "3.6.3"
  }
 },
 "nbformat": 4,
 "nbformat_minor": 2
}
